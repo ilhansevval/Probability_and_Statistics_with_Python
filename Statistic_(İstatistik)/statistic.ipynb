{
  "nbformat": 4,
  "nbformat_minor": 0,
  "metadata": {
    "colab": {
      "provenance": [],
      "collapsed_sections": []
    },
    "kernelspec": {
      "name": "python3",
      "display_name": "Python 3"
    },
    "language_info": {
      "name": "python"
    }
  },
  "cells": [
    {
      "cell_type": "markdown",
      "source": [
        "# **STATISTIC**"
      ],
      "metadata": {
        "id": "BvTT6qkE1502"
      }
    },
    {
      "cell_type": "markdown",
      "source": [
        "**İstatistik** doğru bir şekilde veri toplama ve verileri bilgiye dönüştürme bilimidir. \n",
        "\n",
        "İstatistik, verilerden öğrenebilmeyi, gözlemleri bilgiye dönüştürmeyi sağlar.\n",
        "\n",
        "İstatistiğin amacı, elde bulunan veriden (population),\n",
        "\n",
        "rastgele seçim yapılıp küçük bir grup oluşturulur (sample, sub_data)\n",
        "\n",
        "Sample üzerinden istatiksel çıkarım yaparak population tanımlanmaya çalışılır.\n",
        "\n",
        "İstatistiksel çıkarım yapmak için de featurelardan yararlanılır."
      ],
      "metadata": {
        "id": "-2icpxTD2m9N"
      }
    },
    {
      "cell_type": "markdown",
      "source": [
        "# **Sampling**\n",
        "\n"
      ],
      "metadata": {
        "id": "hiNumna23tqm"
      }
    },
    {
      "cell_type": "markdown",
      "source": [
        "Sampling büyük bir gruptan random bir şekilde seçilen küçük gruptur.\n",
        "\n",
        "Sampling amacı eldeki veri çok büyük büyük olduğunda tüm değerlerle bir classification yapmak oldukça zordur.\n",
        "\n",
        "O yüzden küçük bir grup seçilerek classification yapılır.\n",
        "\n",
        "Önemli olan seçilen grubun biaslanmamasıdır. \n",
        "\n",
        "Örneğin kentsel ve kırsal bölgelerde yaşayan milyonlarca insan vardır. Ancak bu insanların hepsine tek tek kırsal bölgede mi kentsel bölgede mi yaşam daha güzeldir diye sormak mümkün olmayacaktır.\n",
        "\n",
        "Bu yüzden bu insanlar içerisinden bir grup seçilir. \n",
        "\n",
        "Ancak bu grup sadece kırsal bölgede yaşayan insanlardan ya da sadece kentsel bölgede yaşayan insanlardan oluşursa burada biaslanma gerçekleşir.\n",
        "\n",
        "Çünkü kırsal bölgede yaşayan insanlar, kırsal bölgede yaşamak daha güzel diyecektir. Orada yaşamayı seçmiştir.\n",
        "\n",
        "Bu yüzden seçilen grubun olabildiğince farklı örnekler içermesi gerekir.\n",
        "\n",
        "3 çeşit sampling yöntemi vardır;\n",
        "\n",
        "**Random Sampling:** Bir grup içinden rastgele seçim yapmaktır.\n",
        "\n",
        "Üniversiteye yerleştirilirken puana bakmaksızın bir yerleştirme yapılsaydı bu random sampling olurdu.\n",
        "\n",
        "**Stratified Random Sampling:** Büyük grup belirli karakteristiğe sahip bölümlere ayrılıp, bu bölümler içerisinden seçim yapmaktır.\n",
        "\n",
        "Marmara bölgesindeki hava kirliliğini araştırmak için, tüm ülkedeki şehirler yerine sadece Marmara bölgesindeki şehirler alınır.\n",
        "\n",
        "**Clustering Sampling:** Bir grubun kümelere ayrılıp, bu kümelerden rastgele seçim yapılmasıdır.\n",
        "\n",
        "Bir araştırma için tüm yedinci sınıf öğrencilerinden bilgi toplamak yerine belli okullar belirlenerek bu okullardan rastgele öğrenciler seçilmesi clustering sampling örneğidir.\n",
        "\n",
        "Stratified Random Sampling'de data küçük gruplara bölünürken, Clustering Sampling grup sayısı fazladır.\n",
        "\n",
        "Stratified Random Sampling'de gruplar içerisinde fenerbahçeliler, beşiktaşlılar gibi homojen bir dağılım olurken Clustering Sampling'de bir grubun içerinde fenerbahçeliler, beşiktaşlılar bir arada bulunacağından, gruplar içerisinde heterojen bir dağılım söz konusudur.\n",
        "\n",
        "Stratified Random Sampling'de gruplar arasında bir grup fenerbahçe, bir grup beşiktaşlılardan oluştuğundan heterojenlik söz konusuyken, Clustering Sampling'de gruplar içerisinde farklılık olduğundan gruplar arasında benzerlik yani homojenlik vardır."
      ],
      "metadata": {
        "id": "Z8B88ZOa38Wv"
      }
    },
    {
      "cell_type": "markdown",
      "source": [
        "# **Central Limit Theorem**"
      ],
      "metadata": {
        "id": "vmhqYChIBCGZ"
      }
    },
    {
      "cell_type": "markdown",
      "source": [
        "Bir population sampling yöntemlerinden biriyle küçük gruplara ayrılırsa, bu durum population'ın mean değerinde normal distribution oluşturur."
      ],
      "metadata": {
        "id": "yVPOiSo_MD7m"
      }
    },
    {
      "cell_type": "markdown",
      "source": [
        "Bir örnekle açıklanacak olursa;"
      ],
      "metadata": {
        "id": "ZjsX9OpON4xp"
      }
    },
    {
      "cell_type": "code",
      "execution_count": null,
      "metadata": {
        "id": "zYKA0tEK1zjq",
        "colab": {
          "base_uri": "https://localhost:8080/",
          "height": 265
        },
        "outputId": "d0495dd8-1236-4ee0-a5f0-1c38b9abc80b"
      },
      "outputs": [
        {
          "output_type": "display_data",
          "data": {
            "text/plain": [
              "<Figure size 432x288 with 1 Axes>"
            ],
            "image/png": "[encoded data removed]"
          },
          "metadata": {
            "needs_background": "light"
          }
        }
      ],
      "source": [
        "import numpy as np\n",
        "import matplotlib.pyplot as plt\n",
        "import warnings\n",
        "warnings.filterwarnings(\"ignore\")\n",
        "\n",
        "x = np.random.random_integers(10,size=100000)\n",
        "plt.hist(x, bins=100, color=\"g\")\n",
        "plt.show()"
      ]
    },
    {
      "cell_type": "markdown",
      "source": [
        "1-10 arasındaki sayıların her birinden yaklaşık 10000 tane, toplamda 100000 tane değerden oluşan uniform bir dağılım oluşturulmuştur."
      ],
      "metadata": {
        "id": "NdXGpu-2NaVq"
      }
    },
    {
      "cell_type": "markdown",
      "source": [
        "Bu dağılımdan rastgele 10000 değer seçilip sampling yapılırsa, mean değeri 5.5'de bir gaussian dağılım oluşur."
      ],
      "metadata": {
        "id": "O15lZGBwOOfi"
      }
    },
    {
      "cell_type": "code",
      "source": [
        "import random\n",
        "mean_sample = []\n",
        "for i in range(10000):\n",
        "    sample = random.randrange(5,10)\n",
        "    mean_sample.append(np.mean(random.sample(list(x),sample)))\n",
        "plt.hist(mean_sample,bins = 50, color = \"orange\")\n",
        "plt.show()"
      ],
      "metadata": {
        "colab": {
          "base_uri": "https://localhost:8080/",
          "height": 265
        },
        "id": "knqi-rNgNn5O",
        "outputId": "2c0960b5-91d9-4c16-8012-87b955d030c6"
      },
      "execution_count": null,
      "outputs": [
        {
          "output_type": "display_data",
          "data": {
            "text/plain": [
              "<Figure size 432x288 with 1 Axes>"
            ],
            "image/png": "[encoded data removed]"
          },
          "metadata": {
            "needs_background": "light"
          }
        }
      ]
    },
    {
      "cell_type": "code",
      "source": [
        "plt.hist(x,alpha = 0.5,density=True,color=\"green\")\n",
        "plt.hist(mean_sample,bins = 50,alpha = 0.5,color = \"orange\",density=True)\n",
        "plt.title(\"Central Limit Theorem\")\n",
        "plt.show()"
      ],
      "metadata": {
        "colab": {
          "base_uri": "https://localhost:8080/",
          "height": 281
        },
        "id": "Yho44Xd_PL_h",
        "outputId": "5ffb85cb-734a-456d-ebb0-e2a94d521f2d"
      },
      "execution_count": null,
      "outputs": [
        {
          "output_type": "display_data",
          "data": {
            "text/plain": [
              "<Figure size 432x288 with 1 Axes>"
            ],
            "image/png": "[encoded data removed]"
          },
          "metadata": {
            "needs_background": "light"
          }
        }
      ]
    },
    {
      "cell_type": "markdown",
      "source": [
        "Yeşil kısım 100000 değerden oluşan population, sarı kısım içerisinden rastgele 10000 değer seçilerek sampling yapılan küçük gruptur.\n",
        "\n",
        "Sampling ile oluşturulan grubun population'ın mean değerinde normal distribution yaptığı görülür."
      ],
      "metadata": {
        "id": "Sk_QLP9_O4J9"
      }
    },
    {
      "cell_type": "markdown",
      "source": [
        "Normal distribution kullanılarak population hakkında genel bilgilere sahip olunabilir, bu sebeple central limit theorem önemlidir."
      ],
      "metadata": {
        "id": "c_swPEzpQWcJ"
      }
    },
    {
      "cell_type": "markdown",
      "source": [
        "# **Standard Error**\n",
        "\n"
      ],
      "metadata": {
        "id": "8JyHO-a_Qrf8"
      }
    },
    {
      "cell_type": "markdown",
      "source": [
        "Population'dan sampling yapıldıktan sonra, seçilen grupta bir problemin olma olasılığıdır. "
      ],
      "metadata": {
        "id": "QCUvAbZZRVxe"
      }
    },
    {
      "cell_type": "markdown",
      "source": [
        "![standerror.jpg](data:image/jpeg;base64,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)"
      ],
      "metadata": {
        "id": "3ez1qEqHR72S"
      }
    },
    {
      "cell_type": "markdown",
      "source": [
        "**n:** sampling yapılan gruptaki değer sayısı\n",
        "\n",
        "**σ:** standard deviation"
      ],
      "metadata": {
        "id": "rVxADgxiSADh"
      }
    },
    {
      "cell_type": "markdown",
      "source": [
        "Normal distribution'da verilen IQ örneğinde,\n",
        "\n",
        "insanların ortalama IQ'su 100, standard deviation'ı ise 20'ydi.\n",
        "\n",
        "Population'dan seçilen 50 kişinin IQ ortalaması 95 ise, \n",
        "\n",
        "SE = 20/root50 = 7.07\n",
        "\n",
        "Mean değerinden -1σ sola ve 1σ sağa gidildiğinde seçilen 50 kişinin IQ'su %68 olasılıkla 92.93 ve 107.7 aralığındadır.\n",
        "\n",
        "Buradan seçilen 50 kişinin population'ın bireyleri olduğu görülür."
      ],
      "metadata": {
        "id": "wG7-NYraSoJx"
      }
    },
    {
      "cell_type": "markdown",
      "source": [
        "# **Hypothesis Testing**"
      ],
      "metadata": {
        "id": "cBthBPGOV3Sp"
      }
    },
    {
      "cell_type": "markdown",
      "source": [
        "İstatiksel yöntemlerin gerçek dünya problemlerine uygulanmasıdır.\n",
        "\n",
        "Bir **Null Hypothesis** oluşturulur.\n",
        "\n",
        "Null Hypothesis **reject** (reddetmek) ve **fail to reject** (reddetmemek) sonuçlarını verir.\n",
        "\n",
        "Başlangıçta oluşturulan Null Hypothesis çürütülmeye çalışılır, eğer reject sonucunu verirse **alternative hypothesis** oluşturulur."
      ],
      "metadata": {
        "id": "pAB02P5VWM-x"
      }
    },
    {
      "cell_type": "markdown",
      "source": [
        "Bir örnek ile anlatılacak olursa;\n",
        "\n",
        "100 fareye ilaç enjekte edilip tepki süreleri ölçülmek isteniyor. İlaç verilmemiş farelerin tepki süresi 1,2 saniye olduğu ölçülürken, ilaç verilmiş farelerin tepki süreleri 1,05 saniyedir. İlacın tepki süresi üzerinde bir etkisi olup olmadığı araştırılmak istenirse;\n",
        "\n",
        "Null Hypothesis: μ (mean) = 1,2 (farelere ilaç verilmesine rağmen tepki süresi üzerinde etkisi olmadığını öne süren durum)\n",
        "\n",
        "Alternative Hypothesis: μ (mean) ≠ 1,2 (farelere ilaç veridiğinde tepki süresi üzerinde etkisi olduğunu öne süren durum)\n",
        "\n",
        "Eğer Null Hypothesis doğruysa,\n",
        "\n",
        "σ(x) = std/rootn = 0,5/10 = 0,05\n",
        "\n",
        "z = 1,2 - 1,05 / 0,05 = 3\n",
        "\n",
        "mean değerinden -3σ sola  ve 3σ sağa gidiliğinde bu alanın %99.7'yi kapladığı bilinmektedir.\n",
        "\n",
        "Geri kalan alanların toplamı %0.3 değerine karşılık gelir.\n",
        "\n",
        "Yani null hypothesis'in doğru olma ihtimali %0.3'tür.\n",
        "\n",
        "Bu değer alternative hypothesis'i güçlendirerek yapılan test sonucunu güçlendirir."
      ],
      "metadata": {
        "id": "7Po6LGHjaNhI"
      }
    },
    {
      "cell_type": "code",
      "source": [
        "import pandas as pd\n",
        "data = pd.read_csv(\"/content/data.csv\")"
      ],
      "metadata": {
        "id": "65frSs53opTq"
      },
      "execution_count": null,
      "outputs": []
    },
    {
      "cell_type": "code",
      "source": [
        "import seaborn as sns\n",
        "import warnings\n",
        "warnings.filterwarnings(\"ignore\")\n",
        "\n",
        "sns.jointplot(data.radius_mean,data.area_mean,size=5,ratio=3,kind=\"reg\",color=\"r\")\n",
        "plt.show()"
      ],
      "metadata": {
        "colab": {
          "base_uri": "https://localhost:8080/",
          "height": 369
        },
        "id": "z_BQxqxvOVYg",
        "outputId": "d28a43a8-d751-466c-aecb-3fff245406f4"
      },
      "execution_count": null,
      "outputs": [
        {
          "output_type": "display_data",
          "data": {
            "text/plain": [
              "<Figure size 360x360 with 3 Axes>"
            ],
            "image/png": "[encoded data removed]"
          },
          "metadata": {
            "needs_background": "light"
          }
        }
      ]
    },
    {
      "cell_type": "markdown",
      "source": [
        "Tümör datasında radius_mean ve area_mean featureları arasında bir doğru orantı olduğu görülmektedir yani bu iki feature birbirleri ile yüksek bir corelation içerisindedir.\n",
        "\n",
        "Null hypothesis'de radius_mean ve area_mean featureları arasında herhangi bir ilişki olmadığı kabul edilip, alternative hypothesis'de bu çürütülmeye çalışılacaktır."
      ],
      "metadata": {
        "id": "P50fEEDhpCeD"
      }
    },
    {
      "cell_type": "code",
      "source": [
        "from scipy import stats\n",
        "statistic, p_value = stats.ttest_rel(data.radius_mean,data.area_mean)\n",
        "print('p value: ',p_value)"
      ],
      "metadata": {
        "colab": {
          "base_uri": "https://localhost:8080/"
        },
        "id": "R8gzK9LFpp7I",
        "outputId": "75c2da57-a59f-405a-9f54-561834aca72b"
      },
      "execution_count": null,
      "outputs": [
        {
          "output_type": "stream",
          "name": "stdout",
          "text": [
            "p value:  1.5253492492559045e-184\n"
          ]
        }
      ]
    },
    {
      "cell_type": "markdown",
      "source": [
        "P değeri neredeyse 0 çıktığından null hypothesis reject olmuştur, çürütülmüştür.\n",
        "\n",
        "Alternative hypothesis yani radius_mean ve area_mean featureları arasında doğru orantı olduğu doğrudur."
      ],
      "metadata": {
        "id": "s7lObHG2p2Uc"
      }
    },
    {
      "cell_type": "markdown",
      "source": [
        "# **Type 1 ve Type 2 Errors**"
      ],
      "metadata": {
        "id": "oxYenzHmqKIP"
      }
    },
    {
      "cell_type": "markdown",
      "source": [
        "Confusion matrix'in istatiksel halidir.\n",
        "\n",
        "Null hypothesis reject (reddedilme durumu) edildiğinde; \n",
        "\n",
        "*  eğer doğru sonuç verirse bu Type 1 Error'dur (False Positive). Çünkü reddedilme olmamıştır.\n",
        "\n",
        "*  eğer yanlış sonuç verirse True Positive'dir. Çünkü reject durumu gerçekleşmiştir.\n",
        "\n",
        "Null hypothesis fail to reject (reddedilmeme durumu) edildiğinde;\n",
        "\n",
        "*  eğer doğru sonuç verirse True Negative'dir. Çünkü reddedilmemiştir.\n",
        "\n",
        "*  eğer yanlış sonuç verirse bu durum Type 2 Error'dur (False Negative). Çünkü reddedilmiştir."
      ],
      "metadata": {
        "id": "-tjOfFur7VAp"
      }
    },
    {
      "cell_type": "markdown",
      "source": [
        "# **T-Distribution**\n",
        "\n"
      ],
      "metadata": {
        "id": "nJhzAghR-Ez2"
      }
    },
    {
      "cell_type": "markdown",
      "source": [
        "Sample sayısı küçük olduğu durumlarda normal distribution kullanmak yerine T-distribution kullanılır.\n",
        "\n",
        "İki grup arasında istatiksel olarak bir fark olup olmadığını ölçer."
      ],
      "metadata": {
        "id": "J2GxnBW2Dt1r"
      }
    },
    {
      "cell_type": "code",
      "source": [
        "import numpy as np\n",
        "\n",
        "s1 = np.array([8,55,78,42,90])\n",
        "print(\"mean 1: \", np.mean(s1))\n",
        "print(\"standart deviation 1: \", np.std(s1))\n",
        "print(\"variance 1: \", np.var(s1))"
      ],
      "metadata": {
        "colab": {
          "base_uri": "https://localhost:8080/"
        },
        "id": "CfS5REEkAH4g",
        "outputId": "4c775376-895b-474e-88fe-feefdc428bd1"
      },
      "execution_count": null,
      "outputs": [
        {
          "output_type": "stream",
          "name": "stdout",
          "text": [
            "mean 1:  54.6\n",
            "standart deviation 1:  28.74439075715469\n",
            "variance 1:  826.24\n"
          ]
        }
      ]
    },
    {
      "cell_type": "code",
      "source": [
        "s2 = np.array([13,32,25,28,43])\n",
        "print(\"mean 2: \", np.mean(s2))\n",
        "print(\"standart deviation 2: \", np.std(s2))\n",
        "print(\"variance 2: \", np.var(s2))"
      ],
      "metadata": {
        "colab": {
          "base_uri": "https://localhost:8080/"
        },
        "id": "0z2NJFY5AT0L",
        "outputId": "1897ac52-31ff-46af-93f5-64bb0e8fa39a"
      },
      "execution_count": null,
      "outputs": [
        {
          "output_type": "stream",
          "name": "stdout",
          "text": [
            "mean 2:  28.2\n",
            "standart deviation 2:  9.744742172063866\n",
            "variance 2:  94.96\n"
          ]
        }
      ]
    },
    {
      "cell_type": "code",
      "source": [
        "sns.kdeplot(s1)\n",
        "sns.kdeplot(s2)\n",
        "plt.show()"
      ],
      "metadata": {
        "colab": {
          "base_uri": "https://localhost:8080/",
          "height": 265
        },
        "id": "zXeuGOGXAX7t",
        "outputId": "40de2429-295b-41d4-b179-dd4dae8c7c99"
      },
      "execution_count": null,
      "outputs": [
        {
          "output_type": "display_data",
          "data": {
            "text/plain": [
              "<Figure size 432x288 with 1 Axes>"
            ],
            "image/png": "[encoded data removed]"
          },
          "metadata": {
            "needs_background": "light"
          }
        }
      ]
    },
    {
      "cell_type": "markdown",
      "source": [
        "Grupların mean, variance, standard deviation değerleri hesaplanıp, dağılımına bakıldıktan sonra T value hesaplanır."
      ],
      "metadata": {
        "id": "2cPl6r15FCp_"
      }
    },
    {
      "cell_type": "markdown",
      "source": [
        "T value = signal/noise = (grupların ortalamasının farkı) / (gruplar arası çeşitlilik)\n",
        "\n",
        "|x1(mean) - x2(mean)| / root(s1^2/n1)+(s2^2/n2)"
      ],
      "metadata": {
        "id": "UMLHIwHwEb0G"
      }
    },
    {
      "cell_type": "code",
      "source": [
        "t_val = np.abs(np.mean(s1)-np.mean(s2))/np.sqrt((np.var(s1)/len(s1))+(np.var(s2)/len(s2)))\n",
        "print(\"T value: \", t_val)"
      ],
      "metadata": {
        "colab": {
          "base_uri": "https://localhost:8080/"
        },
        "id": "U-e-b6oQAwM3",
        "outputId": "11f96f6f-9d56-45c2-ec6a-30d2d15dec3b"
      },
      "execution_count": null,
      "outputs": [
        {
          "output_type": "stream",
          "name": "stdout",
          "text": [
            "T value:  1.9449657786594392\n"
          ]
        }
      ]
    },
    {
      "cell_type": "markdown",
      "source": [
        "T değeri hesaplandıktan sonra bir null hypothesis oluşturur.\n",
        "\n",
        "Bu hypothesis iki grup arasında istatiksel önem açısından bir fark yoktur der.\n",
        "\n",
        "Daha sonrasında T tablosuna bakılarak,\n",
        "\n",
        "eğer T değeri kritik eşikten düşükse fail to reject durumu gerçekleşir.\n",
        "\n",
        "Eğer büyükse reject durumu gerçekleşir.\n",
        "\n",
        "T tablosunda bir degrees of freedom değeri vardır.\n",
        "\n",
        "Bu değer (n1+n2-2) ile hesaplanır.\n",
        "\n",
        "n1 birinci grubun sample sayısı, n2 ikinci grubun sample sayısıdır.\n",
        "\n",
        "Yapılan örnekte n1 ve n2 değeri 5'tir.\n",
        "\n",
        "Bu durumda degrees of freedom değeri 8 gelir."
      ],
      "metadata": {
        "id": "TNZEeJJKFYa-"
      }
    },
    {
      "cell_type": "markdown",
      "source": [
        "![image.png](data:image/png;base64,iVBORw0KGgoAAAANSUhEUgAAAO8AAADPCAYAAAAd3IaPAAAAAXNSR0IArs4c6QAAAARnQU1BAACxjwv8YQUAAAAJcEhZcwAADsMAAA7DAcdvqGQAAHAzSURBVHhe7d0JuHVVWQfw80nzPM9ZljY4J5ZWhBAKCEgIMSgJfDIoMwjIIKOCzLOICWJ9mNjnXEFKGVpRNthkNmeTNqvZaGrt9m/J/z7L3bnn3nPPPsP9OP/n2c/ZZw9rr3dc73rXWntv+eQnP9ls2bJl0DTNYLNip512Kr//+7//u0IHmob9LrHEjoIt//zP/9x85md+5gN/Nz8Y70Me8pAH/i2xxI6LLffdd9/mbXJbfOITnygt7ud+7uc+cORTBhystr/EEpsdW37xF3+x+ezP/uyi2Amfo+T+59ii4m/+5m8GH/7whwc777xzqSdDrutc131adCi3fmaXb6vxMPctOtQz9a+jmtXoAudqWdR01udgkfgQeup61/tgP1vO16ivr39t+Jf9+r763HqxZfv27c2TnvSkwdd+7dcOhM//8z//UwrFXH3JPCAPhPqh88bv/u7vFgN+xjOesVLHbv2mWV98+uQnPzn47//+78K7z/qszxp83ud93gNnPx2p38c+9rFSJ/z2mz77IkJ90ec3UQ58zud8Tqn/MLgWL/7t3/6t8MP2GZ/xGeWYLWWi3TlKW8tomvLqQl0gz/SfLMlInT//8z9/xahyDR7UdNh3LVoiS+cc/9d//dfBF3zBF5Tz7svvf/3Xf5Xy8ny8dH/+B6N40T5rp4t///d/v1SS0mmFVVYlPKR+AIwqbB74h3/4h8Kgb//2b3/gyP+v4zTr/J//+Z+DP/mTPxn8+q//+uAP/uAPilC+6Iu+qAgC8K7m40c+8pHBr/3arw3+/d//ffDVX/3V5Th+LyrUmcKhi6N897vfPfizP/uzcpxSxgEFjn/0ox8dvOc97xn85m/+5uDP//zPiy594Rd+4eAf//Efy/3KcdyGT1/6pV+6YsB1Wfk/zS3PCegSWf7Gb/zG4C//8i9Ld4xd4AG4llGqr2td99u//duFFg4NnejVoCjnd37ndwbvf//7C1++5mu+pvz+xV/8RdEB+vKnf/qng7/6q78qPMDPLuq6dbHTL/zCL1z8wQ9+cPCTP/mTg3/5l38ZfPEXf3GprArwKjVTRxU0L8zbeAno1ltvHfzhH/7h4K//+q8HbTekCPA7vuM7VozS8wlNXX/qp35qcPvttxcD/+7v/u4V/i4qUref+ZmfGbzqVa8qBvhbv/Vbg/vvv3/w0Ic+dPD1X//1K3QCR/XWt7610IheRvwrv/Irg0c84hGFN7fcckvhmQaDYn/jN37j4Ju+6ZtWWqRa32aB7nNe/epXD37sx36s7Le2URwQOZFpLU9RCH685jWvKa30O9/5zmLErmU7l1566eCee+4p++h/05veVM6R+8tf/vLBbbfdVnjw3ve+d/C+971v8LjHPW7wFV/xFStOIhjJh49//ONN+/Cm9YbN2Wef3Rx99NFNy/ym9TpNW8GmZejMt9azfdr/oP6f/ZZhzVve8paV/917bdNC2xo1L33pS5vTTjut+bu/+7umbYVX/rcOsVzj+a0TbFpP3Fx//fXNHnvs0Tz60Y9uXvayl5Xjiw71/9CHPtQcdthhzQ033NAYnfjwhz/cHHXUUc1NN91UztVoG4DmoIMOalrjbdooo2mNvTn44IObVmGbE088sWmVumlbm4beod9GZn6nKau1oA7qvvPOOzdve9vbSn3Q1nYpmze84Q1NG02sXAetY2oe+9jHNj/7sz/btGF287d/+7fN4x//+Obee+8ttrTrrrs2rWEWG1LWbrvt1lx77bWlnEMPPbTI3/PwIXQPs7dRaJ3JQ0ro0lZkcP755w9+6Id+aPDmN7+5eBVNeyusYuSz8oRtnT7tt0ZdB+db4srWMqf8wqzq6XnCnb//+78vLcdXfdVXlRDrW7/1WznEEiqB+qirMIoXPuKIIwa77LLLyrlFhzqipVXawbd8y7cMvuRLvqS0Qt/2bd82+MAHPjD4p3/6p0JfNmEgeeCJVubLvuzLBt/1Xd9VohKt2H/8x3+UKEUrLPzGK/fNG+ogBBa6kiG7UPcnPvGJJcyPrgVaS12G7/zO7yz28+Vf/uWFTjSi+6KLLho8/OEPL/xDY7qj8Md//Mdl/1d/9VcLH4TnQD/GQSnNA1RMuLzPPvsMrrrqqsFXfuVXDlpPW8JpD0uSZdoKp3yE2TCU0gjV9Cna1q0kQTgUob46z1PwFBHqkEq3Aw36tAGhPPnJTx60LU8JnWAWvOwDeKw7pT+X4TihHcVGv75wDcbs2iR6bHhCZnhCWe+4447BxRdfPDjjjDOKsuNDFHce8kSj57ctbel71v14dNI5YTJEznTRObTSUffLYdBLtvOUpzyllOMcmjm67/3e7y2GLCHWttiDV7ziFYMLL7ywbBoC146Dh2AWT6lSYaLY+7jjjhucfvrpxUteffXVJf5Xgdr7TAPKVx9QN578zjvvHLzxjW8c/PzP//zgXe96V+k36ldRotTZZj9MnwUwWx09M0oXPtaCSL2izJsJoSX1D/De8a4+UE6yqK/FG9ftu+++g8suu2zwute9rkR3DFy/UPQyT0R29K6bgEMnmtBa08QAGS5aA/eiU0PnWs6tDcEHl19+ebEn/VpltWHzoO1eDdruXuGFxBUdr3VmPSjGm5vqSqsUT3HFFVcM9txzz8G2bdtKEkJowUN1oZwwYRIgOgyRiGKwWt0TTjhh0PYbiscTzvOQ6m3r69njQkuEZzLOnk9wWhf7aaVyPPXrKvtmACPT8lC8AJ1CQVuAF0JGRlC3yLLPorr99tuv6BSDEGb+wA/8wKDtK5aWHdxvw6tss0CMUoRA52oj8p8sc03kp/uARnxxTr3RqTX2374knyj2Wc961uDYY48tdOMDQ06C9Ru+4RuKfRmx4BDGQfuch6x4jGwQA9IHOOSQQ4oR8zQ33XTToO3ArzxMpaFPhkeAnIQwhKARbSxaiCoE00fP88K8wH69TQPKVS/8UU+8oLSiE7zTB9bP5VUpZ7cerplW3foE/n7d131dUVJ8Z8CUllxEaOShz6b/yonJHuOF1tQ99hkoI+eIdcHAcXxTRhyA68dtffqEvq4JP0J/stRyok2/lu6rO/k6x/hyLR7hiUYmowzbt28voxDHH3/84PDDD19pwd3vOKfgP5odk7VPq19vo7BTG29fPOqiFMLTSLTwFG9/+9vLEACCeCXeVoVjSJMgdVGWMdEkC/bYY4+iHL/0S79UmHbYYYeVZ2EeRmDaLKGeDJcS/97v/V5ROkMj6vfN3/zNg1133XXwEz/xE2VoRF+IsN2jvoZKOCKzwjYDyJ4TMj5J5rpS6Nxrr71K4urFL35xCYMf9ahHFQMwBEIh0evaX/7lXy780L9lsBRZeUJK0ZQ8QK24kN+g+79PpGytpqiOHNXR0I8hoGOOOaa0ylpPes8OOLT77ruvODTOx3DQO97xjsFJJ51Ujh199NGlRcUfCT99WsbK2V155ZUlmqHjhoo0hu7Du3FQjDct17AN8gsqrfLieg+VRaTEiCMAqK8fF/W9sniU3TMe85jHlP4vpcEASQHEY4gQZVbG65l1HQ28cx4//dM/XQRIWPo06icjKcz/nu/5npJ5BA5Iq8TTGvuESfg1C9AP9UfPvffeW8Z5f/AHf7A4VIbNOLUgDDSOikNzLYN9+tOfXmbAKcP4sPwJI9l9993L6AajgfBhGD+mzSOtqWhIRKdxYrTo1HJysnRbGIxeRslg9WElniSkOKxTTjmlOCJ5GdGGVptOyCrjEcfHWT3sYQ8rjt04Nwdw5JFHlnxAot31oiwJHNVahmlaP9f5dcyvMEEl/CJIRlXLrDWm5ODa7Oc5+T8MtZBcJxzjoZXJGwq3KD7hUyBOg1ejBKPo6Bs1fXghbNL6qmecmGtqeqAOC9W3e36Roe6cDzlQREAjOrr8cIxTwwvXhk5GLhx1jAHkvpQxjGcwLT7V9WbAaAOtp0ZCA5Jno8v1jKyup0hQA+baGmhF/zCaHBNZukeXUNl59nqxpvHCsAcHlJYhyZpRXEkJrWS8qQoRet3Hq+8fhvp5rsUELT0I0e0zYkQLq3m5/fffv5xfYnMjutHVuSX+PzZkvMNgLPb1r399CWuFGVpig/pi+9zvdy3Dha7x8kqO2TgC9U2d9UEkhrS89X1LbF6Q+VKWa6MY77ixdg2MjkFqIWXk7rrrrtJXfepTn1pCaf1k4UHCjhjiauiecw+j1Yp3BSupoG9xwAEHLAW+xIMKExtvjRiyUFoHXULLcAoj1rm3XxvfasZWH3d9bfRBWl5JBS0v411iiQcTes3wMC5GJVQ2jGA2jQSWlRpWX/zRH/1R6a/GEFfbavivTA4m4XIMF+r9JZZ4MKHXljdIa8mwhLuGGEz/kl0zd9rif0bdbU1Xg+tWg3S7bPOy5V3iwYaVcd4+kdYyMBaq78tJmJds4F5mWra4HkbYCIyZznKcd4klFgUbstphLWFa2/pcjNiv8dhnPvOZg5e85CWl7/vKV76yTMw28cLYIYxqYZdYYolPx9hhc4w099hnnH5zfK2WXL/X+Kz5n/b1jx//+MeXFroe1F5Pi5yw2VDREks8mDB22Nwae5nyZ+6qGSgMzAoTxySqurNMumDgnmcCu6lk+sSmFmberJkqmXmznnotw+YlHqwYO2wW4pqbao2iFo+BySJb82um01pwfVpt80R/+Id/uLzBQ4vr3T7e9WO6ZWZULbHEEsMxtvHqu37/939/6beac5ww2bRFa2zXQt2vdZ/NagqTup/73OeWcdubb765TAzP8qsulNHdlljiwYYNZZu1kkJVqykYsteEMGYrMtbqp3bP+28TKptOaRjJxHUrOywfE4rLTNcTxGskbM6SuyWWeLBgQ8abPqmpiQxXv9XysGErKLr/14LhI07gkY98ZElGWSMpVNe/tmnp65aW8Vrsrs+7NN4lHkwYO2xmOIzVfOVHP/rRpfX11giJpoTBQW1k40AZ1n6edtpppU9s1ZKXdelrS4wtscQSG2h5tW42LWTCZ6/JSRIqqA133BYxDkKorD9sXrRkWEJpLbBQWgSg5a3fpDGL1ncS2pZYoi9s+cQnPjF0nHctpWRcNmDEXVBwm3LGVXDXx0Byr/9eGWLxvxVLxoa9oYLx+u9NDRlzDrK/1vNrY1wPQlcf6KucSTAu/X1iEejfrNjStlrl49rD0BVqlFZLnXN+Gc0w5Ppx4Hpb/Wz7HIzn6N8K1b0y1FixRJWQ3frhul5djFuPUUgdIc/bCK1LrI3V5LlEq4f333//qtwZxTiGknA7LXCN+t5xldr13Wfnv19bXvZmsYMW+AlPeML/u69bxjC4Z731y7NTbu4bp4wu6vLmgUnq3gfWQ/88+bPI2NIaQMub4czpCtX/MDvju9A13lwDuWYc5LnKsJ9wuG5Z0xJbiM+AfWqijgByXdD9H6TcmrY8fxRcY8sz6/vzP8i5oP5f3zMPqEtd19Wgjqm338iiW/eUld9c43/ujzxt9rtl1Bh1biNIXSDPDy326VX2IboBjvvvnK0up65njge5L9fk+roMqK+pr10NW1rDW/M1OOPAQ1Mxb3a0b6x2WjBcZWpl/RqcUQQPQ643ISSfKZGQy1TPMBLs1+/Uql+k5iUEaIbw1Ns/lOO/8nOfe5wblm+YJSIrPMi+4T//ax6oexwmWmz4gF9yHvjgfJf3xuwddz5QBj4oI7yZBdBnSx39etGc963Z1wiRCTlKxKLLLMCujNQ/PPMuNde7RiIVLaEvz8EnZTnn17X4KfnqWD4gQCcg9YS6rl1MxXjB2KzFB96s56V004KxYO/Fzdsja+GsB7lexto0T6ucGKAJI8abu7PGKLb1yd5qSUjJhmM+er3VoxYu4Vt04de7ikUKBGc9s/vyor55ILSrq32GaLlmPhbm/dPqXvMg90gSojfvOPZicq805aijT95r5tWmujXOBfhr5ADteCBnMWug2Qw+w4+SnSYZgdcM0ymGxcgMWeqS2beh3Qboy2uYGJ6vQXj1r2nDXvdKJ9zDwO3jgUlN/nt3N11h+Ob4458RlJTd/R2GnS666KKRL10fF4SLcJMrvBmecL2TdlqoJ2ls1AnxjITocy7qrkzTM6OUdbneQ+wLioyXAkue8aamjfoiALoZt2me1i6bp80A/FoG6SXtxqo9j7AmqfekqBWE3Bia8XStEdq8p5jhUjp1dJ0Nv3wszDx0iuidxfIPrrMyDCiwN6hs27atfGnPVwM9gxJ7RZL57AwIb7RYs4I6aFjIw1x6bz3VuDBehuTLIORIpuRo0QwH4z3cod/GuZGn+12Lfi9D5KhEgo7jC4ftE0F0y9wI533/98d//MeL0/LONx/z8z5nvK75bBsJLW+faFva5jWveU3TGmzT9kOb5z3veQ+cmQ5az9e0SrTy3dRWIcbeWuNvWqVtrrrqqqYN88r/Vrma5z//+eV7qsq2tUJvrrzyysb3d1un9Gn/W+9bvq8Krm0VtDn++OPLd2mVd8EFF5T/rbctZb7whS9szjrrrKY1knLPvPGRj3ykOeaYY5rLL7+8fFMX1L11VOVbw21rWY6B82h+85vfXL5R3Bp707ZeTauUhSet0pZvPT/lKU9pHvWoRzWtI3zgzqZpW7bynd62hWrahqN81zaIPKYJ5dOZ4447rnxDVz1aAyrnWofc7L///k3b8pZvVpMnPfZdXfxpDbZcB+pNv1sn3LQRS6GrdVJN67ALD1zrWfjjW7x77rln0xp10ZNHPvKR5Tu+ynedb2L/3M/93Ir+rBe9u3xhpc3C+4MOOmht7zEF1J5rrQ2Eeiaa+EQFj5pVTbyxa1o+lVZCqymSqL/H66sHrbEWbwuuE04ZytKieJ+08hN6ui6h8zzCxS5Cmy6DFtW3g9RR6+il9viSddbgWuHuueeeW6bE6tOKQkQp+sjo0urqdrSOuwzlCR3BtcbpfVHfp1Hqt6ioBz76rbdpwHe2vFv85JNPLrR5DrrI65xzzinRljBYeI+mAG25VquKZvS5RsssitD6ui96o0vn/W0veMELytCmiAyPLeTRWttaR1c+Caq80J1tFHo3XoIhNEpLOGtVYN4gCBtmMiYTQYT7whnhUmggDE6JgiUB57jzjjmH+a7ziQszwvRvfP6D8urX6Fe3Xrh8OY5Qld/tU88aaBeq6S4IJ4XzbUtTvp/rmzqUMUk2dFJgYMAM2vU+V8mR6SPjh8+b+BKefAAeeYb79HM5wKc97WmFLxAlt82i++B5Bx988KCNqkodIjMbh2xhDLrUF226OEYyHEtCST11rXSVHFd35xilRBcn6Bp064boGgmX6QH6XS90vu6668p3noTUHL7j42Aq3IpA4qmmjTA/++MCo23qS5iYzQsnIRNQXugqWU0jA6XwlJvAgFFwBuomCcbr89ZaKP31eUKd0E3h1EdLxLlQKMrXhnNFsXItBQz9jJrDQyel1UeU9IoMogPK0drpI+v/MhK81MeMQ4wMurydBtTLpl6Apux7vjr5BhEnLnqUsKozwaB1jWN3D5r9okV5jssd4B9nEYePZ5KCyvTNac6ck5ArwY9xMDVORdEZwyIDwwlOyyOso1wWREiyaR0pZBSKwdlnjEBghIFGLbdyXE9owkKG4Jww/N3vfnf5kkTb1y1hkhlhQi+CnCfQo45o05L4Zq7oSdfg+77v+8oYuhGDXEsxGTp+aXW0skJoIaMFJFqkGIdr0zLdfffdJbklJJfIk9EWQtoYPuBfjChwb5+IXgLH4j85eo599PrioWTU3nvvvfKFwOhArtOlIntlBO6tozLJLrwk9wy5Oc+xM2jHhN14rqGo67YeTMV4VRxDwpRFhjpqLYV0vmpHwYDSaVX8yrwKpymWY1oiLYxrhceUNGFghpAMMaDdPqG4xrOiMLw24dXCnwfU0WboSr9Nq6NVUW80anHUE10cEwcnGtm+fXtxPgxZi4FPaAp9Ne32KbF+sEiD4fql7MLI8CB1sdXo/p8UDJEs1A88P04JXTLBPoh9xBFHFMfmuGvoQJyt6ImTpgvO4RVnzxjTX9bqcoAxaLDU1bPoFHAAynANPsduso3CVIzXQzEI08OgRQalo0zeDMKIhTGGhHhX/Tjh3plnnlkEp59KaG9961tLaEWgWinXoVk5hEBZAQ+c999nL91jGEr5+kjumyeiIJwNxTL+qI54YQxTF4JR+6j6eeedVwxY/1aCCw/QYmgFbZJ3vuCYaAs/7FNW4ae+8Q033DC45pprymdi5UV8eFoYPSuoC5moG4eDfnXkZMj3+uuvL0NeDFYoq/WM0zrrrLPK655EIvrzDNj3uYzpMnpODF3kr0zDRIyZfoFnyH3gqZBZUhCvdSl8VUTdxkHv47yAOTwKIlXcO5unhXqcd6N0ECIFFQrm+7NCG96XUuuvSlzo2/GkWqcorOdSTIbOA/O++suu5YEJhLILoZXh2636xBJVMrmEO2/gm3pyJFpYSsW5yLqa/CKqMHEBfZQz47mM27X4ZYKCtdeupaSMQ0RDPhI+PiYOaYnxSRkMHp/UwXGw35XlRmXbRVpZjQo5csTCVhGVsN9/eosm47M21+sG+bYwR+N63Qx00QMJSgYuScc44xRkkulQnFOcmS4Go2X0+PzsZz+7ODLPGYfO3mdYASGkEoSlUtMCpTL0stGvBBKi+2z2eVh1FsY4hjfx1P7bd55zAkLMcUhZNQ9qKN9z3DdNvqwX6mKjVH4ptzpSwJq20OIa/3NMf5VzigECXrmupj/lBLnfb64Nr6G+F7r/Nwr01frueTFmSB1St/q5qWe3LkJgzj7ydF99b319nIfz7sM3s+82gqkb77QxqfGC+o6D+jnD7nU+x7t1Wu36eaFbn+7/9dS/iz7p6Zs3a9V/refl/lHXreeaoK7PuLROrc+7IwPDs60GPNiMfEi9N2v9p43wZJT8N8q7Ufo0DFMx3iWW2JFRG2eMeJQxTwtTMV5xvWSABJAM3KyJGgc107NvHFe/bzWgTzJGosyQAOReWUr9wO45yH0SIhmSmje6LYQ6q7tNfZ1P/XNt+r25lqzlASCKjT5DQZlxFLjHcXyo+8XhX541L9R1QBddCL1dhE5Jroz919fRfecMI3Xvd33uy7n0u9eL3vu8KmP8z1gewmRhZS0tlZoGJu3zRunwwD7FkgGUhNl1110/LYkClM6Qgqys6w0DGTKQPc4sI/VxzlxW5/CAIA2vGD7AF+OqZlvJwm6k3n0DjTLDhr6MXUOWRZqAkjqiy8Yxy7a7R9JF1twmyWUcWCY6M7MMk8nMcgaOG9sFWVfZeiMSnh8+1/yYNW/isMjLcI5seKbJ1gkpsKTQyAE6jTCgxxCSoSLHjCxwbpJ/svHOSQyaySaLTZfch8fsA1+7ScxR9PcyVIQYZfhlTObGWqvovyVzhlpMB5PBzbV9YdKhIsZp0zpQOsvgTA3EcEMC3TINjdx2223lWs81JgwclCEDy+AMCfGqxkAJQ90I2XxW60W16gbwGXEmwc8blNUEel9ulElnwGZFcWKGhigkxUaPa7dt21bGONFg1pRhFsNEnNiP/uiPlnvxjh4YKzWm7Zo3vOENpRyGj18chGG6yKHL7z51ZT1IK2uc27JFTtYrjjmlwDV4ZNwaDc4ZFqIblvahAw/QTecZMWOlT84ZL2cn7nPOkJFFHnjdxSj6J25yEcpjgFZXq0MYBuNbxzA49thji6cxbua6WQtjLaT+jA2zTcjQqmCyc91QhtJh+ote9KJCH89sYoMWm4CcM13w0ksvLS2RVpzBGg80ze7CCy8sE/6N7Sk/UwPnCTQK5RnhoYceWibLm99MacmNgwStRgySUzbFzzerTFxg3MZBTThAr2mFyuHIGajrOS/TTvHAnF76gj91FwVP5gk04gPHhC/0wDGgJ2kdMzvMJ2sZuckd1kNzevSHc6MjznH2olFTIJ13n3XDVjBxABwmhx87Wi96iZej6IgUOhx//PFFUQkaA7RiznVDgkWBehKGelJe4TJGoqne0CLM0XIIgUUUWh5jfM4b6AfCp8SUU8gpvGIceMK5ETKFPuyww8qMpHkizkk9ORThXR0h4Qn52ncMXxizMNLicuddr/tAMZ23tDJvn2CY7jOmqQwtmRYGL3QpdD/wBvDVtfNAnsvwRE8m44g40IdHzqMHDSCSuPHGG8vElnQ3TDoRRelWGbslY/frNrELzi2RCT4wYt0oz8HjyGK9mNh4ERPhqrjY3WwUQqTEwgmtkdBxEZH6q7PWwrpKrUjOQQRLubSmki6WehEeIyYYs2j06yir1SjOZd0oaGF5XhPetUY8tXCJ8c8TFMbGeE2gp4DoUzdKSJ6O4YHr8ERkpd5mSVF2SkjWfvHOLCPXCK+FlVpijk0OIA4OKLhrPA+U3d1mAbpqUw/hPkduPTqjQzOjRb+NrgA6yRwfRGyWUOKfrgM+MNI0Vu5RVvq/8hyeZQHEZZddVmYg4te4jVt/maoK+o8U18JrAv6RH/mR4qURzwA2GygRARAwuvxa92kKpFZX64FOyg5aHRsBUmqtTlorK4q8RocAKYqWeJ5AV5QTnaIF/TBhn0SKflr6Yml5ODCrrzhm15FzEng2ZaUcr8uhnJwYhQ8vIb8x0pQ/SzBO+qouukReSeO1OI5zLLZ6mWONZNHpgBcX0AFlJIJQRoA212vg7OMP4xflaQDch3fjoHfj5VFU5s477yyKbr6nTnwqlv7DZgJBgPBXttQE/lNPPXVw0kknFUGj05sztKxaX29NcN5yOUrNgAmYZ3avlozxUwheep6IAQElFdILG4VyPrkqQwq18pLhc57znBKlcEoUUvRhHrgoyxCLOeLKkak98sgjS2JOK1UrKF3R4itv1kYbkC2nig+SaQxL/1SrSDb6/BJtDFId1Z9R4pVuAoek768fL5Q2Z9kxmWQIvSIUXQWtr0hE98vcdn1ez9d6xxmsFxMbL+Kj3IjifSQmKLp1sZQUAbkmv5sF6kuIssWSCum7EyZ6/dcyEax9SkAIFDO8ER4KmwhUWO1ewlcOwc0TaFBHdbaKxnI4UQPDFR0wOLQY+tM6oEFrZF//WOKFcbpGS8IYrczSIus3HnXUUYV2DgvdjN216FemPj+lDq9mjTgvz+aodBMM80iyah0lMo0sqHPWX+MVXdB1SqLJxmiFxRyV+5IDEIZb063ryC50qURjzslac35xIONg4qEiRFMAD+ZVZOle+9rXroyRaoVlJxFFSATYreQkz6cMkwwVdZGssSSMFTSEtn379tKPpYAMVUuLbsIxPIDxFm5TbPTiB4OXYWW4Vh0RVJaW8bxCSl0JS8HqfuCsgWdoER3IgpOP6IDyUVQ0aSUs47OIXgZaFCHpQiHRxbExZt+PooiXXHJJaYEpMcWXlAH7lBdPJXgMl+yzzz7FYOhEH/IbF3mmX5GRV/R4UYKNM/NaWC0kujg0kZeuBMcrfxHnpoXWjZDw1E3IiwmAjuDPiSeeWHiJd3juPtcZUhTJSH5pAGqM4snExuveGKOsIYFIzlBeAkIs45VdywL1RTZerQo6tDoUVV31SykeoRCcEMj4LqXlkAhMuCxZoT6MlpfW4lgmR4mVxxCcE15rcSRFZCT7qPdGEXlwSOjkvLSI6kh+WgZ1JEOKJZJCCwN2DYXljA488MDisBk0p0YHODLyp7gcmmEi5Uhi6U7ocuAnRzlPHtTAjwBPJDINBzqOVg5cd0GITKcZOMPlmDlpXSUOXh/fWD4dwU9RKH2iE4xUN8t9eGPRP15o4Lp8GMWXqawqSiim3Dzc/3q/xiSCm3SGVRfqpv7KCl8SLdi0NK7hcYVPBMUL2/J8fT5l8LJd3mp53Udh42X7qPdGEVnkV11SHzSof/hRyxXQIfxFi+jD+VyDH66zb3N/9oWjSdw43uXRPKH+QV2v0ED+6u26nOfYRViML3DONXSBjvifjT6B0FlSU7gNznlOjchiGHoz3hAXoiKouuxcM04F10Lfxqv+yqnLSn3rY65zPNd3eeg/QWcfQr8tfFoEqJdNfVJHUEcb1HXtXleDYrpnPYapDBhWzryQOoUfqwGdcb6uzfXRh/p++6GxvtZveGV/GEbx5iF9MS7lpML+d8v2f7VKLgrqeqeuw2hBp2MRQq71PzyoeQGu6ZazCAgd2a/hf30s+93rAgpd99so52oyTxRTb/NGl95hUM/QyIhdH/45hy7//aLfb/YTxbmuftZGaP/UE3uESqigyuZ/sJEKzhphcJRuWJ1zjBAigGHXOZ4Qy3n7kGuH3bNICG22YD11xpeaN+GprUauWSSoa3R3NdR1dn3eqhJEf9Ki1vaQY87DMENeL3o3XlAxsb6MpX7RZgIG6s9KXGEsdBUWfRIyoS8CsLnXcUkt2cQIxjWulQyTFLKfexYJ6p86UrrwIKjrq+9qWEUiLsroPEVFeyY4+HUMHxxXtmOLCHSoIxmqe+hdTU5aYAYpaRpdyLAPGpWDp65zLEbqGN7hdY6Nqwtb2squ+mX8jYBAZd5siDEcIhMrQ7laBSd5ft99Xsy00MBQh+xpkHpLOBn6MIxCOLKP6JN5dK8ss4wryNJmSSBnlnPKkm02gcG0uEWBLLEMMqUiO9MZ0SazGuCxTYZZplSyRqJGVlZWneIaI1UOfnAAjhk79ot37pHkcr1hIrzGk5Q9a+TZYMhMhpzRpd5mlDHQ1K++nlNyj9EHQ0pGH5yTVadHjFpyDn9sztFXWWi65H6z1QzPZQZaje7/Gr29PTIEMSafcUA85TaGRYjmuyZs7GKS5/c1VETJDLib6WL6Ii9pEgLUrQqmZ2mfewwVMEyKaHaSMW50MwT/KSYFxQcTINIqG+cl1CjGPIEuoZ9ZcVa4MFwGbFmcMeisUY2MtRpWyhjuUHcLNEy6NxRouMwrYc2uMkRCPpSbA1OeMU+tEOeHJ3hjcsc0dGO9CF3oNtfYC/JliP2a420arMkn4Dqbe8gZHTfffHOZ6mqoyHUM0morQ0WM2ZCQGWeGmNxntZVjMtQcunXDmQ9et862kdDyTgL3t5Ut+60CNG9/+9vL1+/aUKpplbpphdzss88+5Ut5udZvvU2C1kuWr9VNWk5rjOWreL4St/POO5ev5alra6ArX3xDQyvc5vTTT28+8IEPlPOt0Jobbrih1MPX4JTRRh/lq3KnnHJKc8YZZ5QvJ/pK4AknnFC+LtcKvXwl8Mwzz1yYrwR+8IMfLHV9/etfX+SItvPOO6987a+NFso1bThZjrctZ6m7L+K1hlz+P/WpT23uuOOOQvuLXvSi5tJLL135ciLetUbcnHrqqU3r7Mox/3fbbbdm+/bt5R5Qti16MalM1wOyDVrH2jznOc9p3vve9xZa6cQjHvGIpnVMD1zxKX3Pb2vY5Qt/T3rSk5rHPvaxhSbAv9bhNa0TK/xBXxt5li9HthFp8/SnP32FN56zyy67NK0DKNeOg4n7vLwDb9GWVVoSU+J80qMlrgxyG8uqX8S9qNBv422FPiYOhC4tgs1/LbMogscUGvKmWhqTNLT83tFr45F1G/Sd4k21PK1iFk/N22q9eOV5t7pAdsJYSxTNKiNHdYX01VyTuhqbJGOzw0Q9JnNocUzccJ2QUYShNTZHWPioHOtb6YdzeOCZ7ku5aW3qbdrwbLoK6mJtsmgg3QJRgegJ0KZO+UUnesxlTz/XOTCxw1RhUYloTbfKNfTAPOi8lJ+u4MOwkHkt9JawClEEb3ICwoSJQiP9hlQOgYsG9Rb2mqMrVM6guePZgIHXS/tuueWW8tIBM28oO+UlaF0HH25m7Poy6fMwfPNhLQnU93WMAc8blJfMsqRNdwBNFM8CBQ4osrPp4zJgxxgoHqCRQgo9heD6tsJGobj5z/qRnuG8roZ7lBHHrg7Ks80aeaZfxqWOXp7AkDll9SRf52Pofs0qM2UyYX+uwQvTKi100AWzIJ8x637gr5l6rsNn3TQ6xWmO68h7t6R4agJmECpM2XmyGMEiIgIE9YyQAse0pJwS+nhbgtFnpaS8bK7jwfVhKCvvrZU2VRBPTC+0MVqJC/3feSIyQRMeoFF/XL9esk3rqmWoQUljcBRbYo/Bak0poql+WhdzeLdt27ay2kYewDMoOyfpWhGKrG6X37OEOuED47HZzzRI8hYtiZQg/PLLyOv/2eek9ZfpgNVW+KPvn2miIE+ir8u5+SSuKZNkMA56/dwJoWqdZJx5VFk0rZFMXOZ7IrD7vEmejyl9JKwCZeUFdLxhmI2xkjhCRFli85Jdg1aGy2NTZNdzWLwrpcxrXigpQfqgs3OOCacoCcHNG+pNochK0k3EYM6tjHP4Sr74QJF1h9CvRfEdYvRpqcnBOmAtthbIZjGCLpQRB8c5PF0TEYoIBF/wb55AI1mKljhWURHj1QLTMQ6XE4uTi6HZl5ATTehyuYbzsy7YCxeUYa2vlVbKplNsRHfCOuitW7eWJYVC6nH1t5eWNx5H/C47R/gYISwgcGGoVqcmerNAfS2y0G9Dp7BHi5HWIuOhvLDWhRC1Xv7btFBoT1hF8WMEzs0baEKHOqu7rg4na5ULx6Ku6BA5cFwUTwuqxZAxdZ8NfeSMH3fddVe51n3o5fSc934wBquVdhwP0kWJk5w1ort+GZfVY1pbMlVPOssBqSeaOCnngPzcFx6mLLS5x/2Ah7L26OW0Ga3IxprvLPxPmeNgp4u9v2NCxGOoPA9ruEGFeWd9IoYsGSLRA10PM67HqTGNlteSwLS86LDM0VfytBpCPv05gqHE+oZaXOEl4XJe7tGiOKe18REpY5vCLzxynyET4SSvPM9+r/owLPX10jkGpzVlcOhkjFoTw3/CPCtj8EDLIexnuBQa3Vonhu8NnFojZTlnyExiR/eBvBwXYmuhdt999zKWzMGpy6yde3TGL6PzBk00k6/ISM5GiyoC8WIJXUAvl5DbIGf34YPr6DhZ6i6hmYNXpnBZC64czu/0008v+QW6YTgNn5XFWY6jw70Yb8ATCX94EeGXMEplZGCFmoQzTEDjVLiLPozXfdkIjfCE/frsvCLhUGYMT/+OcAhSS2x8TygoscNILXlDO4ETmLpReGXoC7kPnyQ8ZDa7mIQfG4HnUSJ5CaEzeikUw2Ocxm/T1xfyo8vkG60xBeeU9GElaTg4593rnGuE1QcccEAxbC0v5+g4XnJseKHsWRtuF4yOQVm2yRGro+6Rtb10W73Jm1NPdhn0cfGNI+L0laMrxEFnSaR1yyYSoT9G7RmcGF5xBvjTjcZG6cKW1pg+1db3BMXxIrwrxa+THc6pTPeRkygrZlC2PpcEdqFcNKX+hMaDolGr63/uQ7Pug2Nd2m0MX1mErMUbhj7oWC9CU35zLLCPlrQyudaGVnwQUqY/CI7bKDQlF0LW93GOFNzxRQM6bWSojmhCS3hT8yg0OR/au/zRxUInPpB37gf6I+IIXA/1NfV+F1vaVrJZTYk2ApWGPBQjAHEhuItRFVwLfRsvYGLqGqHkfwSVa2reRfDg+DC+uk85NvcP40n3/yyQukCeX9cjipXr8CAypYRoDa9yrWPdMv2v92Ee9K6GyBfUz//Qkf3uNflFR3SAQ6uPuW8UncrM9fV1o+75VA16RP2wVAZSqRC7yCCYMJti6gaod01PrqnhnLDHOdcSSA3HnAsfbF2k/FmCckV5Uu/6F9TbBrkO1DcJOfv1FtiPU8tx94evi4S63uqGZl0HxyPvbp2di1xdQwfsp6ycC7r3+2/LPfnfva6Lttx+7bf7UOXXRNdEbAbEGCF0dWmk5DFU9Lm+vi+oac91NvvZ5gF1IKPUBfJbG3BozHU1zTVCF+Sc/3VG1fEo+SIhNIVu9QstkGPDwEE5F/2wX/Ov/s1zoH5GrlkPel9VVIPH0nfQvxNGhLju8yZ5/jT6vOqMuZkWV8NxyQaKiOGeWbc8aDQcAO6v+3Xuk6xwn3N40kedJ0FXWdTR6IDj+rGpo61WxNQbLfqw6My1eKEMfHDMpJXcr3zH8Uw/ME4u5S0CRFumcKqf7HFtWKlndBtNaLC5Lw7JefvoxQM8cS0+Kce+fIGyzYWAdD9qXuTZwzA146XcspDGAmUVZd+6gg8meX7fxmt4S0aY0NRbnVNvkN2WdZRVxmjnZIwNdxCmzKLMrONoNgGBcFyvrs6BrOwiTE4AdcU7tJlUggcUScbdiposW6RwXRj2knl3nSEmMCkj329ipFkOJ9suA618SokHMviSftPQwY3AkBmdNYLBERtxMMyFDjrNIPFLdt7wGD6BYxwWHpjHrAyGiy6GDLL2hhRlp41I0AkwUiGLjyfjGG+vM6wAETYCNP/X60KN//mWjedEUWpM8vy+xnkJymQMY9SWs4kWCC1Qb6B8JjJkzSdj5FnN6zWua4KKlkW9/FcO2i0ZM07qOYRmOELLxvBHCWjaQBejpGjGONVTHdFmVpBWk5FR2hqUlgKbbGA2Eedl/bKyyJ1Ba2UMORnP5ciMDRtCVBYDNqnF2CbedZV2VohcPZvcvASdA0O3sWrLGxmXISIGHP01nwF/vAXT+DWHT/aGydyLTjPv6BRdwSfO0LCZr0hs3769lKnhwXfDTxkyqzGSJ1revqCsVvBlOeBdd91VljrtueeeTSu8leVeNtfV2ySwFK9VionLaVuQsqTP8sUnPvGJZUkgpI7q3Sps0wqoLG2zHKxV+HLM1jqQ5tZbb21e8YpXFPpb421OOumksszO0rKbbrqpaZW6acPm5kMf+lBZLnjhhRc2rcKU58wLbWtSttYJlbri5cc+9rFCkyWBli62RlquwYOgjarK+b322qt5zGMeU5aCAtrOOeecsvTPPZYa7r777s11113XHHPMMeU65Tt38sknN23jUZ7teZPKcCPw3NDVGmtzyCGHNG2EVJbq2dqIrrniiivKEs9hiA5YFnrggQc2rTGX+wL7zu27775laWUbfTRta97ce++9hQ/O40P4FRvJNgq9ufy2rOKxeXDhoZdJe4F1ZlUF8/Cua6FVmhLKmMJ2+OGHl/modT3tJ6TRIvG0wmMtiVbFMfd6R7NZNnhggL8VRpmcIQR33KQM3j0zasywmmerC6HNmKYpkcI3kUSrkEWmWpvUsa6r6EGLZG6uFjfntDqtYyphtOjDhBS80cr4kJv57lpefMB35atDtlkj9AMeWOqILvUiRzIXQdS013AdeWo9rTASMjsG6HPOdFGfxhGBaaHxAo/NyrKoxVc1zfUeF8NrNCZiuCpLsc2RFWrpMzq2yFB3m7Cb4VJeAkOPzbmAMBkkY9VnseTLpyuE2kJ3YY9ElDBJ6ChkEhZTXv1GYbIZNVbbOGcBQzccnSXQRikpMAdjFpwwFp1mBwn7MnOsCw7OwgWGiwY8U55fs5SUa2qs7/Aq20IHBq3/z3A5PV0OfWF93nkh9baphz64RJX+q+V6nLpj9YSbGnTEx9jlL3QPI0/l4aMloM4Jlz2LfTiuq2FVmqWjdEg+gG7Vjsw2ChMbr0rGQM2oIXT9APM/KbSKOm5m0aKComEsxoce/x33HxzTGhEE7+zzH14FY24yJTXFLczWopouKOrgeU14J2TCYciUQV9Yq6TvNy8MUw5KS4ZaEg5Ni8AhuTYOGrKPRzaoFc55hoo/Enn4Qw9kWOUCtEZ4pCXWsqX88HtW8LzUGx1oUk+v+LH4wvRW/Xn60IV7TSnVgnL8jD/XOSfvo+9rnXiOswP2IZ+i72tttwSoFnhc9NLygsqprFbXvsqYjM27CqFl8WrhLgq6dSJA/yPUKCYIdbQgWmeGyRC1TJQPnUJJikrYwqQ99tijJHV0I2RlnfNiAmElpTb/WeJjUcCwvB3EqheG6yNhEk1RvPAKb8KnLpRBoZ1Do3XPMrbCRQYsgSnhx2iVL4RMOXnOvMBwOVOtogSTec3eksLRornruNSbkYtW6EXqz0kDXgqjZaDpDuhW0B2fRYn+MGT8GRe9GS9C9Bm0TCatCwMMFWh5tcDGN4cJe9FBSDKCvCMHJMPIMUWQaCQ0G0E6j2YCtOn/CBNlcWVgeV7CBwJN/2jeEFWoO8MVylpMQinRgFbDfjLt5uqOAuXftm1bmXTvXq1YlF12WVfDBH7l0xfnbNGNWeuI5zFM+PjHP/VROXVktNbZMlz1Q4uhIXS5LvUUpcgUuw6Nyopz0zUQuUQ/wKos+xy9ckU6umHjriiCXoeKhA28iESVTYUo/tatW0vMH+/Vfd4kz+9rqChQVr0Yn9Be97rXlTcE6vvpAwn7MF6f0L7WQytLsDyoe5wTTuv/UVatDgdA8JyAoSJDJMb9eOB5glxECEI4jsd4pEhByJ8JGOi31I9hc86BLgE6vTVCngNf9BUNs3BU6Kbghkk4ByG4xI378EtLTU88I8rflz6uB9FHmySk92zJRagTGtRfxKS19JU/XR3y1AdWV2+ClKhMkivlOedtIj4s71y6ZPRBvkSkhld0QtitbDxi2KmPbRR6Md48qGYEaG21Ovp4kjkRTM4H3f/joG/jZVwUioIK99RZckmLo48mKcGATUIQ8mK48Mrz3ZMBeNlmSppzhJYlgc4JpXh244J91HujiEzQQqHITFLFf5sWWeiMz5QT/XUCi2Ljl+VsnBil5pQovYkKnAInKLHFqdEHz8EDrbky8ZkDq/kwK54woHSNdG/okjpysOqujuom8chwjR6ghxPCGwlIIbA8R6IoBqhc5fkyIkcQMGJvGuH0OS98Mgph2WFC6/Vi4g+NEX4UYKOY5F4M6nOGVQ10QV1u6KW0BESwXf45R1GT6Knvpxjud1/K6t7fNx2j4Pl9PU9ZoDyKzRGIYMZRym5dZsWLcfgw6tq1zoHz+KNByJLJjXSfJu7zqsh6id5sGEYbATA2LUy3tQgIg9LywF3DzH3BvHk3redTRqHmuK3JvDAOH0Zdu9Y5m+iOHsnG04WNGC5MbLwPNmC67gEwzGHCciwJCtfH40L93/1d497MiHICGu3vSPT1hch9Ut708n3ernIKCSQr7CtbnK81sl9fC7XAN4JJw+bUx732/coAMtC6hQwctzFOHlSCJ60smm2Q8tAuNOJdhdn6h+4zZOC+PLPGRuiYFKmH+gt3weQK9YfUqa6va9HjGvTkWvzRbSBv53UfyJ9e6FIEysIbrfNqNE+bF+pa6786oUuWHD2SsI5Fd+v6RP7kmuNoTRl+wTnXoJXMa3j1b50PGge9fxkf0YYUdOQRT6l12HXyhVGY1a3kWv9HoQ/jzX32JZwklYS3Zog5N6xcgnOdlL/hAMopc2jsVjl4SmCSOxJdfvFEAkS/V3JLhlbCq1v+RuiYFOQiMZdVP4wvq34yYR5doc016HePeyVhDBMmC+t+472y6vgogy0BZriFAac8CTBjpAmvHasxbV6oZ5wOqGNWFamLuhm355zIMxEVyE7jAQPO8b333rvQJ2mpbHCOXcg6G5VAq2OeZS6EF9uhsy57Peh9VZH0ui8JmJih8iZuUHQZVwwY9qzusXHqM2m2ub5HXb2e1CQCLaVhr65jI1DKygi9UdJwCgVXDkESvGEWs2gMjVBuSs3BWHViTM/9Zt4Qskwrw6+xETomhZbCxATKhHYtgkkGxmJlmx2r62Us1JCQ44zUcJDMuaw64I/VWcZNGShHYIWOCRCGiZTvV2ZaVp4Brcex943Il1w5VV93yHxsWXd0Gh5LxjjXM+Rt27YVfWGYnBn94cTQho/44hgjJ3u0muDD2B3zXmeTVgwnrRaFjYSWt0+0Cty0lWnuueee8oGlNlQqW2vI/2/FRLZWaJ+2jYNJVxXlvlaRykfCnvGMZzStMZYPiqlzF461Qmmuueaact1RRx3VtIIox2s62xanef7zn9/cfvvtZcWSD42de+65ZbWRZ6qzj7C1xr1Cd7ZZwzPVwwfi3vjGN5YPobUOt9TXMathAvS1ito8+9nPLh8WaxW++ehHP9ps3bq1ufHGG8tHx973vveVlUVWlPkA1zvf+c5yLx5YrWX1Ti33Gjk27Nw04BmR8/vf//7m0EMPLR8ac1wdfXjOqqK2gVi5znE4/PDDm7ahKjQ7ZnNN7vXbOsXm2muvLSuO0O28VXb0pm2Fm9YxlA/Rpexx0Eu83JbzwN6gpL+1OiYpWL9qVo1xvXiUlqjyuyhIvbTeWhkzf4R5MKzV1VqaOcO7apmFia2QVsrxKxowo0p/ySs/XZu+n5baZAee3BhwPQYIY3nenoAudUM7mkQC6GwVqvCAzFzjV2hHtmjWkrgP34SXWlLdDvSLhKyy0eKC60UfzuGfiS9+6Ytz80KejT7dOtM5RRrkoIVEf6KOhLX2RZOiC2P3dJyua7H16513n1/yFn0IjUUlynCPrlbr3Es/2LNdOy56Md4AIwgcYfqiQgera0zAznQwlVfRelsEUDbhS1aGYD6m1oqFNnQZXBcKm5jgGhugzb7wWRhFQATGMZipRLjCJ+GWlUVm1kiOLQJ0afTtOBNKiwZGanKCY+iKM0MPHlHqgBGjheyz4iiG614hKfkrU3/Qi+wt7jDZxfPweR5GTGbRSc7Wyichs6SdbgFaHePQ1J8OuNZx9GuospDjJS95SZnYoQsCrreqyjxueQ/X44VJGRwbZwGeH96Og16MFzFRYP0eb4TXd2C4PI5ZJJQhRrGZUDsXLYsPRKOD4erraKH8Ulo80JJYEkgRGAOF5I3dSynwRl9Zwsocaf2qYF6OTL0jP0rLqWgtLKKwuEDLmpYk19oiS8cpJmXtGqBrbK4XhZh+6AuBnJcZWXigNa7LnTfwQOQk9yEaMR85NGRDs/XPbfeg5HjoOqPVr48z4qgk6EyfTJ+2T0xsSSpEaIhRYUpJ4AagZdVMizOlLCtNNhvqOksyyBAyVosQZJd5XgJK10C2maFqySknEJzpc1prGUfHJbnwTkJr3kjLIzrgnCzXM33TMjehcRDD1FXgkDgsQAenpfXtJt/cQz84PPPbk6DDD85NC6ZV9vyNtkB9QhdHdIQHjK7t25cWUt3QYEMT3d5rr71W1mSTqdED+qF1Bg5AMk7CK6F3n+iFU2E4IWhhZRQpOCKEj1onS6Ogb+/TNzA4TFZXNOirMVBCY3RaVUonTORl0RcHRnhASQNhp6EiCo4vrtUHJtCMJfct2HGBTtll4awW15s/DBGpKz6InoS4lFt0hRdZ5ogPeESBjQ3X/Muv1tWKJeV4lvs4LuE6o+/eM0vkmegQ/sogM1rhLRmpL3rNR7ZohdNCj4X2fp2j+xooXQWGrUzhtHXtcWg1P/rAxMaL6WF8Km1sjwFLzOj38tS8knPzVtK1oI5RWHW1j47zzjuvtDZnn3324JJLLhn4xJPv7OgjW2CgpQXCJHDjt4QK9hm9FpliCK202hIjWrhF4ImJ+BSXg6Gs5CZ0FkKjydfzLr/88hJp6MeTJ0X2KiAGz5kZJmHwtU4EdEAXAe1aJAkeixP0B3NP+B7Mii+eaRNZCYG1tHI0ZHXnnXeWPjq+XHTRRWXllX1OV/3xTMKKvnNmVhxxRgxcboRe0Ae6UPMl/4PoSuqSbRR6HedVSeGQ8rRUBM2grY0UOqgMAa0VGo1TH4pFcTCpDzr0W5Qn/JdBBULRUgrzdAMALa4TEguFtSAEoDXBg7whAtCrPJ6dwhO6cNTEEr998X+jQItEC16qI3r9twGaZUjRapxSN8gxLY3+vbF9q2Ik6PSPQ4+oRIuEb1prPFCmySr6g1olK3J0sdyTDWbJkzxXvfR36QBHQ39tDJWMyY0jRieHQ3bmM4gmRB5GD3QZk9ySafbxNVEXHYjeexZdwWuRmGWh6bp0MYoPvcywUhEKoBwPU3GCUzlKnb5Mzq31vFEV7kL2F6MZQh+IBxxVR7SGXr/uyb662+wPA2G5nnfWV1qLF7NA6pp6hwehx3+O2f9cG3rJOHTYyLoL99c80XJlNU3ozzlw7awQ2QWpa12H+pjoKy1p7tNK03MNVU1/tyw02mcDfp3HO7DveP4HuXcYJtYcFQohqZBfXjpJq3iVWkB9oUvcpM8IHcPKCa1BaM31uRf8Op9yci8vrnUipFw7T3RpCj02crNR1i5yHwPsKi0l7EJ5+GOTM6Af9l2b68OrWWLYMyOX8CXX+K/OfnUtAq3wehxxEnx4lbIC/8elf2LjjZDBwyN48OtYNliLwHHhGcqsnzEpahq69a9pszle7+c6v+pVX5//9fFcP09EJqm/uqV+Nerjoc8WGrKf8oLu/xopA1Z77jRROx3w/JoPNT11/Rgrg4sRpsXMvVDT7VhyQjbPTfng/zAnOQqrc3WTIMxYNNSC3hGxI9PWN9bSz43q76Y33hpLhZoNlnxeDOwQxjvNlndcRe1ev9b98zaEvp4/bzoejOjFeAmuz20tJFTONm0Mq+Nq2zAMuy7bImBYvbJ1MewaW9D9vxbqMsa5b1ro1me9W7Da/41uo7BDhc2wFsFLLLGjYJmwWmKJTYodruVdYokHC5bGu8REGKePtiOgS293myWWxrvEEpsUS+NdYolNiqXxLrHEJsXSeJdYYpNiabxLLLFJsTTeJZbYpJia8VqjmSVTXdRTGzf7BItJ6r/Z6U/9sxY1v12ahh1bdNT0QL0/LmID4UNdTs7BuOVPzXhVKlsNRt0lov6fY/NC6tBlandbC6tdUx+3P+uxwbWwHtqgW3f/c2+9D90x0GF6sUhQt9Bg8z/179IG9bXDsF5a63JGlRf0brweyEC9HdB7j7wmpUaXkLUqOGsQkvdVeT/VMNRC9GYE7zzKmyC8XSFM9+4m5YRex7wayBcFbHkx96Ih9VVHr+xZTT6OeyVMrsODetF6+ICP4ZGyXetFfHnR3SIi7/GK/Gxoiuwh9IHz3pLqvhwLnMMD59yPZ8pFv1ft4kd4OC56/9AYBfUZCK8R9TY+byX0lgAv4QLE1G8YgO7zx6mPl6ZhRF8voPMhMJ/h8OvtjoRRl5t9xuetgr6CgDavt0GX8xyX14R6MZmX0TlHQF4Fev/995e3ChK218E4t0hQfy+U85E0b3z0srmafvIDL597xzveUV4H68Vs5O6ti3kbBF5wYN4uiXavv/Vu6/vuu6+8dyz35FVJiwKv7kWXryWqIwNT97xMsOYF+I9OH2nzXi6vv63fzsFQX/WqV5VzeOmFdt6gqXx8sNEjDs47oIe92WM19NryUnTGetttt5W3RxIOZfXaUC/piuAXEVoGbwD0buGbb765MJUCdh0NGtHhzYDe2+sVpgyxhnPeoE9I+Sqg91n74py3JvpynH1OAo8WBSIJjpeyoY0RD4NWwqtOGSbaydwXAfFMa0rh8BN9eMmRicLw1tcRKSoH5lMgjGWeelG3lIzQ1xzUUf3Rf9VVV5U3ZOb9U0GMSt19FuXKK68s12lZQbnKoANXX311eTOla7XC+MUxeHEiZ+a8/64fB70ar9aIAHlYn7Xw0aYTTzyxvCJTpRGcF6/V2yJAC+79zN5TjI60uN3NcSEVpmO+1snxwKtfeW4tk5esOScy0Op6baj3P1944YXlVbg+B+q5iwKOhVGKmCghZUNvvTnmOq883XfffQdnnnlmeZ8xPnBQWlk0a2F8yoRz0powWIZ95JFHlk++4AM+KqtrGPOCumtpTzvttMGpp55avj1Ehhoiho1+iLz9F3kx3kReOc4Qta50Shn4hn4fcuMQfO7FO6B9B8nrYn0nK637etGr8SKc4QoHKTZFoJzePu/l4lAr+qIAsymXtwDmS3mrQd9FS6L1cZ1XuMZjOsZwhc0+LCVUIjR9POGT8MsXBQjTe4w9Uyu8KFAf7ycmLx8YW01WogmKxhlR2oSEZO4cR63FEQZ697Vr6QSD8A5n/PDSefxm9PNEDBLI8owzzij1ZoiJisgrL5irW0e6LUrx3mWfNQHytvmyxO23314cHFkrLyFx+MoBitxOPvnkwr9xcwC9t7zCYx7VR4N9z8cb54WIvNoigvAwk9IyXJ4wTHauFi4I94TFlFDr6VoboYo6fKvIC9d9nIrAnYvXphyB17861k3ozRO+6uAF+XiRLkPXgP338nQQYjNYrazwl1FSeC0u5fX1AAae18Pq3+KHKERYzij0EWMY84Iog/zUj+zIiVw4ILJzjJNhlOEHXfelCHT5cobz6IjO+ISpYwcccEApz72u9es60YauFSfvRfb4Mm7ff2LjVVEVAoTx3gjzkSp9mv322698/kTMvx50lWXa6D6PEG3oyjn7ICSWiPNfgkxLS7jCYsorySNh8/CHP7wcwwutkJZYWYSW0Mp/+yl7XiC7yC+tSgw39QsvUmfG7aNhwn59XUqs70v5ODahomsoLdqTXfUcZWiJfKSLgQjRnZ8X0MZw0KVueKChQZONHnPUzud618jlaJx88QEdnBaHReYSUHjgHNpc73hyI/5z8lpeXxqs9WIcTJxtjlBBRQmDAp900knF4yYJwgv5gFWuX20bF31km2sDEvr7JIlQcJdddllRXiAwyQyMFmFgvqSGa/3q/7iWkISFjmld0K5vJ0zUuoHkhgglnwKZJ8K3KDCeolXIm+5OlCvX+l4RpaOwWk+G66sBWmHycB36KTJjSOipdVOmbzyJVOQGfONIWA0bleFGEccV+iTWGK3vD/l8iS8Fkh+Di5GTsc+0Mlr7ElByIByV8Nc3niBGKo/iOuWgXRlaZnzJB7bBNV36R/FjfHMfAg8FoaBv2CCCcqu81gmRhBZGbSaoM4UkABDi6LuiUbhlE2lQYApp2Mg5nlgfxi/aKa98gJZYay3c5NwYwaKC4lBYv1pZfX0KhyZDRIxb4umggw4qMhYiywP4CJlWF1/CA/rge7fK4dBd7zzFZdR0iL5El2YF9AXqJCPOcHUfhLzqpv7kLHvOKau/UJq86YdWFZ02sqcjzuObe11P5n7jAHzIDa+Uv1H0Ms7rfkynjKBVEWLy4DKQCDzkkEM+bSy0L/TR8tZIy8vYfFCKQvHEL3/5y0sredRRRw123XXXslE+9Ah9ZAwJzVfhhZSEpYyEXYzWuC8lFokIL7XCBFgr0CIAT7WYPiAu/KWAhkKEifryxq59HQ89+CUbqwUVJvqwlogFH/zKETByxxmuD42J0OiIbKzw2XeLKXEcxayRZ5K7kQBOSENETqIDRkd3JZbIjXzRRj8ib8YoOeWLkfTAMefpiWy04z6bKkKhU+eee+7gmGOOKYlBOhR06R/Fj4mNt/aU9g3UCx0QLWwiFBWnBPbrivaBvo2X92SUvieszsoUShEgYzNxwzEbT81AfYtXFhlt2XhjAleGcFILy3vrVnBsytp7770Lv+aJYTxDK4OVkFNvztcYuLBPq+qYLgCDpcxaY0kb57SkkTF9wDtDhQxUyEgnGL0ohOL7umB40LdurAfq6Ll+GSu60cvJSsAZDRDSk7HwWBeHceJFgIf0kLOT71CWMpSbc+iXkfbfeWXJB+FjLYOuPLr/a/TylUCVqeGBFIACI7KbRRtVofWgfh4nIQT1lcBJy50FhFUEy+ijNIta77Xq5jwZo6Omp0b3v/K01nRCboRDdyzPmQcvunWEWdVj2LNrjKrHVFydChEMj9o13Ac7KHk9ZDQPZV0v1qqb86IL9KzWALimu2WsWzdrXqFyjdSru7/o6N14Ga4NA4Z54iXWNorNhNAimoD10raIerHZ5NKb8dbCyL7+Y4S66Ea83vq5rnttTaP97vn6v/MSFqu1VPNE6IBhdNRwPtfX+zCM/hiGfbQny+p/zs/DeDybPEYhdRzGk5oHkPN1mbk/+4F7QvdG6O+tz5vK6/Dr14FjyrYJkYRKfQioZsCkfd66rMDwFkg0OV+XGzrRJLGFXkka9NV8UIaQUJ8/ZYQ39p3TpXBfHzzpA+GFX+O3wuE6MVMDnWiROWaImSaJlpzDAzQ651fCznFOHf88xzPcP6+Mu7raameiH5+6C/Ejr5o/4JhkaUYWcq2NrP1K5vmVoXc92iHDS56LF+7X1UzZgXtXQy/GCxiACBMVjIXxPI55OAU1DUw2sg/UBE5qvOpY0y8zaDyT4T7taU8rZXbL9XyZZkMkmQYow+64a2WTjQubRmi4QPkmZBh+kaH133WyucYKCX2RIBOq/qaKGhoaxlc0msghI4tumWQyNqYtM50xYcppqEh2XebWPZlRRUcMseFDnNiwZ80SMuHqSL7oMs9ZVryWEaNzzrCXiTr0HvDrcY97XDFCfDGhhxOQvMUf5XBWdDYTN2xo32effUo2uuvERvGjl9hNBTyEZyUwCmqzzMk0MWOClHwRURuuWVB33XXX4JZbbiljkqspk2OGSCx9NIfbcAgQqgkdBvotgzTGGY/Oqb3pTW8qkxs4G/zBqzq8mgfILtAqGsoy2d6kenXs0p+Wytg32imuYRXTJI3dGs+2tvXuu+9eWajiHPoprGWEpsoaMlI+5Y4SK7euz6yQ56PFlF4G6T+53njjjYUntZzwxLXXXXddaahcyyCtEuKkXUvnzY22T86XX355mULLRt7ylreUsV96YOPs8N65sdAW3j5742gZ3rRK2yjH5j/Yb4XUnHbaac2ll17atGFCOd4HPCNba2RNqxArz90oWiY2N910U3PggQc2T37yk5vLLrus0DAMrYCaVlBNG0k0Rx55ZNMqZjneGn9z5ZVXNvvvv3/TeuHm5ptvLseV0xpE84IXvKBpFaNpBVV4Nmmd+0BoVJfW2TTnn39+s99++zVtS9ncc8895VyNVsGatiVpDj744MKD1kCbVpEL39DbtrhN24o0rQNrWsMs544//vimVfTm6KOPLnxtHVwpp0t/rT/zAB141rOe1bSOuchHHZ/5zGc2V111VdO2xOUa9XOubVmbrVu3Flr8bw2weehDH9q85z3vadrIpXnCE57QvOtd72ra8Lnw64ILLij/lXPAAQc0r3zlK5vWqMv50FzbUbZRmLjl5YUSBsZLt+UWDyx04pWt1tEfcrytaPmtt3nC81smFU9qaqNpcWbPpC+ivs7bQDglHNLXERKbiQPKUYYJDMrI9LicwwfhqFCbV37b295WQvR5I5FHWhOTEcwYM/NnmGxcbzMZQcskQhFmCv306/BFP9lkBr/6cqaOCjG1zFpi0w+3bdtW+KhVCuahG57ZGk3ZV19r0E3EQWP653RBq6g++OSXrrz4xS8uk3nMX9YCh2Y8MUyq32ues2V/ppCaTacfLSIVVpvfLEoxC9Fzxu339xI2d4E4wtLH22OPPUos7xhGRVkWBVEQymoSuqmMXTBczCVAU+j0i8yY0ZeLMF1D8U2HZLgE7rgtgmf4wkWhs1BS6CS0XBTos3E8eR1LeFOD/JzDJ6EiR2RpG/64z4YXFBituhE2fWTy130SJuYtG3gh8QfKjcObFWp9NJMKXRoahmcpKwMmT8cCdUQLR63unJAljub1y5VwamSu66ABEyajlU2QNwPHA0bv3pe+9KUrs7vGQe+WROC8r34CT27uKgaFSYheJERZ/K6mPI7bMFyrwTAZqsSLPpsoI4x3f8pAawyA1z3nnHPK2xn0jcx91bfihecJdYxMUneyqo93YdUUJ0ZZRSnm7+IJBdT6os28ZX1/BsBgndf6nHXWWUVZ8UByyxLLRCDDeD8LkC2gWx3orxdJcK5eTCAJlWvANbWuPOxhDyvTQ0VX8hx0QoQhgXf99dcPLrnkkmKoXtQgeWUlEV3AA3PmOQjPYvDKrLdRmEoziAitk3m9wgoKHAMe5s3nCQwiiAguv+oZ5U3dJanQRdl4VaESbyoU1rJocdLK1jQrR/Rh6Zsw26al99x5J/JCb+A/hBfQlRlFZKjmZluo4VVHFFwrKhyU+XfO/UJm2WTzm4020AmGLKx0j7DZsMm8ENr8kh3d5XQkmywJtGkpoxOBhklEoUVG6wknnFAcF2cko6wVN1phXzSi9cY3ZXBuySxzYEYcJK7C7/WiF+NFWL0JDWTdMjRUEz5uBWcBdcumrurI4Pz3y0B5TecMbVBEIXAM1a/rKKUtZQVaaAv1leE+npaxu9bE9HkDXUFoxoPIzX8taYZ/9NsonmhDuOwa1zqGF7pLDPaFL3xhaZHog3DSGzZkml1D+Q0dWV7pHKSsWSK0+yUbfXH1lKdRd8YnNMYDa3b1T/3XsmpVRWOcttYWPzhmobfyGDeaHOfUDB1yDu7zHx9Eba5jzPg6Dnq3JJXmSVVKUmMzgqAALZhPmJdddlkJebyczHIuL9gzNucFA5a7ZZE15SNM99qA53avcnh1w1FabfdogRcNnAoa8MFGySRWvDhN0k29reJipBIy6NESU1otrb6wZIxzhtPQbpyX0kve2F772tcWxefg81pgxh+ezQro80xyE/IaJvOfQd15552l/hJydFqCytslGSoj1X0gT0NmruWU5XhEWFpaNOrvOicUNx+As+a08NOwmdwH52511bjo/b3NmKEyykSILORamOT5QliM6WtJIEWjZMJ9ZRKql6pR4CzrAoZKWDyzVkYY6FpbFN61+oV4QEHVUx9XVKJsRm/taJ/8nxTqou5aC/169UaPSAGNQjwtCP5QQlEJehin9bzocQ/DdI4uWBKqb6xvqMViGFog+uHlbZkA4dldXkybN+SVZ3BMaE13RuuIRvRoiCTg0KAvq85kK7fjPhGJhKeJGJw1p2zeAB4oQ39fuCxMVgZH4Ti+SnI6x2mGB9lGobcZVqOAQathrQoOQ13epDOsoC5PGQToGCEGFBqf6mOQVjatrm01fmrFhWbKz3Q492603tMGWtQV0NStJ3o4MHRwULkWj/AFrRRSOBi+gpDZsWRw63JrWcC0eeN5qVvkFpmmLuixH364zm8iFIbLseFDkHt1GTh4tLon9/nNObxbTWdGYSbG2zfCGOjDeEehflawmrLZd26186thGvXuC936d+u6Fn31+freRaV5HHqGYVK6xrl/c1ntgoAAs9VYVIVcYsfE0niXWGKdWKvVnTUeMo3WQv9Qh18iQ2ZuWCu1KEg/pN6XZNEfSZ1Tf7yyoU+mUdIlkzPAOf/NsLHlnL5hypSF10eySWBJkM0bXdn4r376pqMgsYcHEnroQH94hWY8kFDEr5zTD5YIwj/3dJ+9CFBHiSQ6HPmk/n6z6W7KQruWfP3PNaFVgg4v6ZXjKSvn8C88yPn1YktbaDPuTaPAWI0JmseKGGN4XtgluxpM+rxa4JP2eTE1DLePmV4SL5uYiQaQayhjVgZJVsgcmlZoiMS9JmzISkpemCNrKEkZhhscT3kU2rDBbrvttlDDRehUT9P2DON4qVrN1+zLlBoqQjM+yMbKKBtCYcxmj1k1RPnxwTnODB9i0MpO5nZRYBxa3TNxxJh+JlvgjeQVPSFHk3aMfXNizqExb8KUgfZGSQ4Qz+gIWl3HqRlekuzDO7bhGeOO8/Y+VGS8zzxOBMnAMWSE1KnwPjHpUJF7CIKSGd4wnc/YHSW08CBl+qV8prFZ2meBudaFAjtHQZ0jFNlDQmLklNRaX8MjNh5ay2PAX70ZiDmyiwA8sHRv27ZtZYaRGVBdx4JWtBm7pJwMDx3GsDOEhD8WXkThvTLWdRQdT/AWDzhJwy3ui1ObNdQvMmZopm5yOiaPaHnJ07g2GSaL7nqGd/7555cIwrVm3qHZ0Bf5X3PNNcUWLFbg6M28MkUWTyw5pTccPydhzJcemKE1Dh965xhjEg6YMmfKmLnNJqnzNhi1aFAnAlFvzDeDxn9MzLmA8TpmfNIHqbzHl+BEGQSEToI+++yzy+wig/XO8dRHH310WRvqc47G/IyLmsFjjHieqGVi+p5JBfncJGWNYtdwD0Nk3GSMXse0RBSfomqFTjnllDKXGZ0MHH/xzgfHLr744tLSmKyiKzEvoDM8oKPCWfWjv+rI0WRWFTmGLwydkfpK4nHHHVcM2XxvITT9x0dfQ1SOuc2Oc4x+rYX2jOc973nlPjxJSz8OejHeWgG0thSaUHhZA9UmK2h1ob52UUBBtZBaAKtqhDgx2toT8poU0aQDwiNUSmkQX4vqHq0ogaOXt3YdgQX2LUp3nZCZAswTkQfFpKBCWZ+b1CoMkxU+uZaTouxkzJB1E3QdRFl4JiqxiMMsI3N7naMbWTaXdyGLduQClDkP1PIlN5/pEUWhnUFx2MbkydOW0Fb9GaVIg46b+qrr4Fqht0gjERV6zenm3HWrdJc4CYsfzEQzf5qzi42sFxMbLyLrzQwSzb+lYqbNhSjCw6hhnnyeUB/1UkczZIQv9WB7DfQRMGFonTCelxX6EZRQmiC9MYESm0XjPEG5l0ILFSUwrMRZhHA5yusX7b5skSWBDEq9a7iOkjFySkoBTSlk1Jw0Z8aRUVK0Cq0zxTCTOYCjw0s8Ea7Xz7GfbdoI/UBv5ShMqGC4Wki/+MJxuzb6G2eFbssbLYvk8DgooTTjdU2u5+DlB0RoHDrHJnTWpfBGDnmGRAHrpX9i403lCEGlhF76Cub96jMKrSi0bV7edRLUzibCw1SeNwbISNEmMacV8U0e/T59XEYQ4IvpdIQupK7L3izAAy2u7oDWFw90jSi3Ph7DdV5f2adD9CEZu5CxDo+Vgzd+8RMv8HAeOlLLwT4ZcsxyGF5MkM+1pp41HNdS6wrpMkh2sQWGG9mjMXQyUNGGltarcSwRZTO6GpzYOJjYeEHFVBbRsr8yzGJ9KzOEoYyaJ1Z522YFxgt7ZVP1VS2HM9mc0Dgniqzl4sF5WplHSiwaAa21bLxwcRFWE20ElNd8XQrHaM3L1efjjDgmUYbWR9cDD3RF9O+Fm5xX8gbKYeiilST4FsG5czwSliJGsjzwwAOLYyL7GhwRHjBQfNCH1V3UhRBRkDMjDkRb9EJXiuytTnOdaEUWWhTTfcZa6MV4A4QQklAiledNYtx1K7RZgAZGZ0kfxyTcsVFSfUQKyPuiT+uCVo5Lv9gxgtfPo5jCaTwQZi8yGFbtaCmVHIa+OgdNxujklPEHba5Bm5CbUsomOy8ra1gJD/BJ2Ih3wmuRCYUXYs7LqdcOQ722bdtWRgI0PBZacCz02aZ1FOoKpdFkhRF66Hj0QZcqL2oQCruPQ0Crrkbe1KL1xS9l6Vpl3fs46HWoiEB5VsND4nuVktRRKZ1yHqevZwWTDhV1waOqP6MzvEU5hcDeeCBEpqT6b54pTKTU+jqST7KNBKxldpxn1l/K+6w4AAJehA+MjQLZ+Xq96ELkgAeWA3JalI+Bok2/XmvKqaHdiiORiGNaErIRXuMnmkUgHBhlphcU2Jf10semP10Z9q0vXZCn54LkmySUeibxhC4GpsWUzFJ/2WH6YWmjiUjo0b/HE2/eEIUwXJEIPdEnxhNfBRRiK0NXSwOHz5z+8ccfX7pTHFywFu29GS8D1dKE8LxxApEMF0HTQN/GS5iU1eA8pVKm1savPq1wkKdluJRcFlFoxYA5J3XRUvPElFl4JDR0v3OWzOGF1iueto969wkOWIukryf0BS2Nfr4QGA02Squ7QAa6CMJHLanIggMTXrsmXwNk+JSYYuOpzD1+0hE8GMaHafMmhgvJy9BjTlxdbcJdTizJSXpAz+kHPdf6uj4vL9Rac3yM1D1o1cWio2yDzjB0z8Mf4bkx4Po9WbAW7b3PsALKzwgoucryqn0+ow4vprWqKOFUXWb2PZ9xuiaGmeNoFyoyTptr0O8cRfFbXw991rsPdOtFlql/lN0xQCtlzTn3hEYti188gpTLObg2/IHVeLDa8WkhdHlunp1f9Q8f1Du80J8VSfkfGsG+8JkzYJi5XihNJ9yHN+mGeE7uXw/dUzFeFagJzj6C7U/6vJpBQhPGK/xK2ZOUX9d3NaznGmDIhFILNffVSjtJfaeFLo2Uuq6r81HGYQi93evqcrtlDsOoc30hdSITWxobx0NH6plrybYOcaGr3xov+4wXrfgQuXsGOJ79oH7mKExlYUKNlK/SqVSfwJAwESPCnEmhrqvV2THPyrnV6KqVNnxwX+rpvmnzf1yElm69KFitfM7n2mF86pYTfnW3RQL6bOpcy8exWmYwrO6uy3HXujeGmbLAr/8296yGYc+o8ZAIo0/wSvo8OvMSNJDKhoC+oP4YiwnxmJPA/UIdIc1q9UWfgXh9PfTV1wgjHdcfFh5ChMATy8LahE6jBDcvREHJT9ibugdoRb/r0IpOG9og10vy4IM+Y60DMtAZbvN/Unn1gboOZKK++qpkDLXh2uzTNfu6T+ihL3jgGCjTfzwgb/eAX8/QRzbE6HwQB7debGkF0XSb7UlA8WXthLNaREkc41h9Do/UBGZesaQYODeJQmCmIRHDF4YKunBeptQzCUKK32QUiRrJB+PZEhHqITstEWGYJJl3gnZOgss59y0aDGtYaEBuJtnU/ESzjUIa02SE/puhJvlE3uhPRp6hS9BJ8rgnx/FAUsc9eL0aZm3cMr/kxIA5X8klCTd90xhsIBtt6AiNnLEk53777VdyAGj1nS72AJJbEnr6t56Bd8DA61VFXXpH0b/ThRdeePGkLUAIQoAhElPFwJiXilJ0StDNpvUBxkQZjK0F4wg8dScASpv5psYqZQ7BNcpEX1YOUTjCpYz45+sJltEZPkgYbxiAN6XYBGkYScaWYjhHyAQ3zxa4VkY8MIRhuqOJ9bLDsqw1P+2rr5UwaJB11UKjjbOymQ4pC5spgcZNDbUoU5bVccrtHuWbyKHcbDW6//tG6PcchuYtoerMKdMr8qRbHLBr0O7XObOjtM5oFmGYDmwsF0+sHGILhoZEG3RKpp7ML7roovIsxi4T7T7TMvFlHPrbukxuuNlUyLgYhbVawqoSLSKFsLkmoUG9TQLE2TZajvvUSYtoHFPUQImHMS3HDXtYMWJFjSETE86FiVbVcFjeiO8VsQTHeWmdeG1TRh03XkjArk+4OS/UcmBYxrQTOWhR6/M2iNOiqM997nPL931cy/llEseRRx5Z+OMcB6tscNxqLKtxKLyIhFMcxu9hx/oG2QfqjkZ6a0z2vPPOK7MFTXnURYDwgEwdowfHHntsmQqKbpGXIbLt27eXyTpmn1lZRWfoT7pjXh/sGX7d5xn4MA4mdvkYnA0xPJLBZi2MLJsUupbIgH4InybGFTjnxbAw1lQ10/2Mz9Z1TZmGvYxNemUrIQiv0JzZQ0JgysABCKd4XN4VD9wjbCJ09zEAHjut9LyANjyw6b8xSDzQIuLLMH5SNq2R1hMtQkAtipYDrZyXiSkMMy82wFvKrDUXiZm4wDBc3w1HYVw5bhT1c9SHcxXikguHTL7oVT/X5nr6zQGRr3Ou5cDovIZKpMEZWKAjmjNJxVi4MWPLScne9cqnJxnrHge9xGshinKrtAF9rRGDTdgstIqhLBrUncAYpvBeHdPqdCGc1rpqZaw60UoxXrTr14s+CMv8WDOItL4ErS/oGi2Q83hEgPPmR60w+p8m2Nf5iWEK5RgjFzl4cbgwmTNCKyVkkJyh1oTyUmgOXXiMr8JtYTejEIEwFLxOVDbsmdNC+O+56q0fzhExRuGsLo6QVl1rkCce6AoyQC8nUG99exGFY7oFcjK6U6ZSapH1nRmx53KW7kO/mXjdZ6yFXjtbPKzKM2DCoaSmxqVSGER4iwT1idJA6oi5hJHj4HjqTxlNk2OAHJUEHY9LOLysMElIzVgZqrIICW/c55dgZeQXCaMMJ7zQzyNX/XUzyEQUDFQ/V2uDRxy1pJwEDuCNc45zlCbV4DvnLlqLY5+l4QKaPDObuouqrEP28gAzozh09NXIffrHDNDSRxGH3AfHpcGyUMXKIV1Izl7fXzcJre7j2CQGdaPwalzae38NjlaJh+WJKWv2eTShVgRbY5LnJ2G10emR7qk3ZWVus4RVyiQsdOgbE4DWyfRBHtosL7+mw/HG+jJ+tcLOcWocGNoJSfbVUAGDF05qseaF2jkBevFUnxZ9wmdwXRQWTZJ2pvUxQokYURb6hZFaFPRK1AmftdA2rZQoRZlaM/SbKolXWrJuXSD8nybyDPIhX0Yl3Le4hPPhkKOzrrGpq9EFjZQ8T75tpNVmqHRIYkprLrrgpLTIMtec2O233176x1u3bi3OXlQG6tLdVsPELW+ECjwOYRCi177oyGthhBAUId51M4GgKJ5klvnMPKwF1GhyjiETmP4SZ+W4zXEbev13j4UJFJsTcMx908jA94UoDzopqPBPn51hopVzQgu52xzXPdJlEI04pz/nOmVIhlFi1wpH8YCz16pphR0fZsDTBPryTHXatm1bCes5JkalbuqlflpiTs11aPJNXv+POOKIsjDFNTbOSLm6VP5nLFgGG83uk4lmuIaIYCO099byRtDieiEH70LZCUtrgxGEO+xZkzx/0pa3Cy0iRU3Li6leSqdfJwymhBI0vC76hL7CQNMztb7CQyGRxQm8r5Yma355WvV1jfvqMcRFAR6m5aWE6sgJeaEa5RVCalE5aJsQWktsEyaKKiSxsjCFkhoP1VWgE1rojIfjg+6F52h5KK/n13LsQ6ajwLjyTHU1/CMKYLTqTYYMTuspS06uDA69F1xwQYkswbX6+MrDI7yhH5wdWv2XaRdOu49N0CX2IcHJ0YnCxolKJzbeEI7xHiyhw0i1VoxKiGTVjfChW7FgkuczFM+hZMEk5WGoTfjHKEH5SSrIlkrpU0J9I+FzlrXp/1J00QcFJQyhFMciE+2ckMp9IhFDR7zxJPWdFN1n+89hgf6bvj16ZZbtC4PRySkxRk7JOaEzB40evGO4ss14p1VCq/LwRYuEB44zajpDN1KXuk7T5k0cBpCbSIkj4Yi1ruopQ8xhoYnRmbyCNg4+yS0bfsi4o5MTUx7eMGDdC0tM5T/okvtEJcrHI/exFedqjKK/928VYQbvQwFsWpW1woFxBVSXx3NRIEMxOd4nPV14BuNmiH6Fvd2uAC9qIyBbDSGUMrp9nEWEeq5VNwroOnRqrep7KD9HbgvIJseTBKqf0X3erHizHlo3ArTSj1pPPGu9GFWnmX8lcBiTxmVaXd48jDf1ZbyrPWsYnYFzOT8u7ZsNeFTzossv52t0+bEj8gc/1otR9E9Ny7sVjMJudkQZYZSTGMX0HVEhVwNah9EbHjq3I+jFetEnrRMvCVSZKHQqll/hs3N+YTVBToo8r+/yQ1u9H5pybBhyXfe8/47n3Gr3LwJG1c05NIaG7HcROiOXXOd45BRewrAypo26TvkPjtnq/0HoqlFfn3tcZ6v/B+hfrfz1oreWVyX0f3TOIywxvmRH5rDq1EdofSFMgzx3HNQMDAx3SCIoK+WnXAkFfXmTK2z6vkAw6EM/eiUikozQ/1WGIQYJNkkMfd++eTEpwke/6CDPYQif0YMWSSj7XbhGEgeP7CtXmYZNZKnxMWXl+vzWx6eN+jn29VPpqwQV2dGPYQYLZC6DTK65JvpEjySo8BKcs3kGPpiBZ3TDsdXKH4Xe3qShgsbHVMrcWJBil37PpGtZOzNyksUNxn1+TaSUPeZt9DU4YSi4nzJaEmhoQPYUnE/Zzpu3LJPouIyyJYEclfm6hgdcG8dl2EFGVeLO8Athus9x93n38TxR0+9XV8Bwn/FsSxZlTWu+Zh/PTWSIEcrGGvZCV2C4CC8NBzmPN4ZN6Irn4J3hJVlsCp+EzjxhCM9QIJrIT3ZZplzCKXLFJ/vGssnUdYxcttjIg2RcrffKck45Entm3Rl2cw4fDC3htXM1r6H7v8bELS+PQZCmQloGhfB4KpU05kvhZRaN/2W+6KIggsBgymbGjDdFEkyt2GjimMxXtbQNfe7xQS6TL7Qu6LJxWlqXu+++uxi0Ftg1Jnq4By9MlTNLSSs9T4R+QIMxx5e97GVlWaDWZzXlMfbt3cbup4SWvBkTVYaogpEq59WvfnUpRwtjGqHyKbfrTObAH3wdpaTTROQLWlx1NpbLWNFlfF8D4TqGS+5Abq6l4yaaMF7fonKtczfddFMZLnVOOddff32ZP4Bu85zxyvCpqOWKK64o/BmXBxMbL8Wk0ITl4YjjTSgxQnhZH93yUmqto8FsY53BvIRWg2EyNt5QnZOIUjdCsznml3c0SG/1iVUyJm7IeBur9NpPXwgw0G9anbFPY9ymP+KH+ywhwwsTQLTeMuXzBBpt6DORgENhbOEB5JrwgwPSqmiVTQW1SsYx93NclJ9TS7hIJ4SQ7jUbCe8shcMXrbHQun7eLIGmIOP5lgSap0xvzZzLKjB0hA/o8YsWswmzfFD0SZecO+ecc1aWFnJYWmn84cR9icG8ac9g5EJo/BkHE3PMA4VKVqMIicMMxCHC9Eib1sbgPgIJbFFAadSZYIR2Xt9pIkJCuNDDwA3KM8oDDjigKBxBodOkhHpwnfILF4WDeII/QibhMyEyZPdlsH6eqOljgOYcUyxdG7LtbuA3SwLzPSLyRS+atC4WqHBmnBsea2W2bt26MnVQa0uRtXAZ750X0IN2deSQM9NJf5bR0llwTfjlWkZuhhWacy0nbkKOdcwmrDhHV9yr24hWYbJWmAMUvZjoo1uVsteLiY2XYWpdxOxRYMxACOFYDpdKUVxGgVCIMswTqQMG1ksCgULbagiDKJxwSeioyxABgutFIRIYWWHleuVzXkIoRm9qIGdhptI8gf7wwOwxstQPDw+6IEu0mkWEBvOVhcaUkxPjjCwt5OQYs+ttlBq9lJTheiOJkDGLEuYF8kI/Y1VHM9/oqTBWV5AOc+ZkiCeu5ehdK/JArxbbYgY8IHPG61x0XffAvplZrhd16XqJcnRP6AVDjxzWi95ilVFhD2JVjBDDAPB/3ApPC+oSGmKw/js+DBTTUjjGp/+itUWb/o7VMgSoFQM0KlNry9NaBywR4h1ZlGCeULeEg6FXXcOLYfLR4uq7mvbpY9KiCgqv+6CVqctyf/b9UnSKa6EG+il0Wt4Y0qyQumULJOH0z+UlRAuSTeAa95CzDU3olSfJkkDTdF3jHAdu9ZBzlv1x4MJjCU880+BpMHQ9dddELOOgF+NV2Sh8wFNppShziOGZbEKOHJs3olTduqgf1EIV7mI+ZlNcIbb5uYYU9F9B/0Vfj+fV6oZOSitpZfG6sExGvpt1nweiuKGfHBkzOUVJAR3hib6tvIUsstU3+m5aUE6L4ivL5l6tdMp2bvv27YUPFmtYcierPy+kXgH6yFJrKDpSP5EIPXZt16lxYnfccUe51qIDOR16n3Pe5SaBiz9mAGp1ZbPpEENnuF6To2vhHWd4Pg56eW9zyqgVQXikUojIOKAQU+vDO/Xx3L4QxbSpf61wBKaPLskgG23xtH3hlK6BsEjLkVUxjNi9DDMtGqHIqkriOM7os87ZPfNGFDIIL8IDdEjaWBLIABNCoh1tWgx8wgfH3VsrOuCXiENyMwsVlKMbAe6J7swSMRj1Fc7rAogqDjvssBJVqBM54YFogRz9p8e33nprudbHyOUz0IAefHHOiIVklkRleCRv4jrO3H/HlY0X49K+08W+3d8DDA/wKsII/R0GoHIUn6c2dqiTLsPofEKlSYXFU2JEX0sClSUMZoz6JpirX8eL6psQpj6tZJxQB83CKsJzDwWnBELCJDqsonG/TLuWhhMjdGO+ohDbogAPOVyhndZU/xcPrr322uK4RBSOoYlsTVTBLyGzMNArXoTQynFOQks/UB/y6quvLspNUTlCPBCliFAodZ4/S8RJ2TgoC+it8OGE0CSpxFB1k2SW6THno7/vWnWn5/TA/XjFgTuXfiw9wU/nvJSCUeMf2ukSPgrPdcES6QSj+DGx8aoceAgPghidfv+9QQIjhFiEJ6EhFHGsL/RtvOixYaQ+ChAeZ0M5Df9QQAIyLui5nJGWFP2uJTSJL/coS5it5WHMBM0z2yixvu88EzbDoDXCS4qW0F+Lax/9nBhZop+ho09Sh8MiW9dzcsrxy6C1VtGJZNvxwP8kstwHfchxvVA/8ExOleORh1BfTlgdZYlFi3jAcaFHjoPD4bDra/FIGXl7Slpp5zkAy0o5e0tK9YmdM7HDZJVhIw+jeLGlZdjU4zbKblO52rN49EYEVVeZV8P0jc6wgrq8lJG6+bVFyMAAKaDjWdrnGNTK4Jjf7r0pF+pzi4LULfWsfwENqXemeZJtjrk2ZfjttiacXODelAv1/qyhrmjr1jf0hi51REPoXU2G9X01XdEBDRojT3miVdfWGMWPmWiOFoiXGickmCXUI1uQfb9d4fiPHokM+zaMT1859zpelwl1ubausBYBqVv261+o+ZHWJ8dCT8royhwcyxYeZZsnVqtvaHM+9SVr+zk3DPV9NVJGPYzquePqwupPXmKJJRYaS+NdYolNiqXx9oxuiDTu/82OHY2eRcbSeKcACpxtGNY6v9mxo9PXJ2peDdtGYWm8SyyxSbE03iWW2KRYGu8SS2xSLI13iSU2KZbGu8QSmxRL411iiU2JweD/AJTx9BGbs2xqAAAAAElFTkSuQmCC)"
      ],
      "metadata": {
        "id": "65_c6HWlJAY0"
      }
    },
    {
      "cell_type": "markdown",
      "source": [
        "confidence level 0.05 seçilirse yani,\n",
        "\n",
        "100 kez test yapılıp 95 kez reject null hypothesis sonucu elde edildiğindeki değer 1.860'tır.\n",
        "\n",
        "T değeri 1.94'tür.\n",
        "\n",
        "1.94 > 1.86 olduğundan reject durumu gerçekleşir.\n",
        "\n",
        "Bu durumda alternative hypothesis kabul edilerek iki grup arasında istatiksel olarak fark olduğu sonucuna ulaşılır."
      ],
      "metadata": {
        "id": "a7Q2Da1AJCx8"
      }
    }
  ]
}